{
 "cells": [
  {
   "cell_type": "markdown",
   "id": "cf30e021-4fe2-4ad4-96ee-b5013785c300",
   "metadata": {},
   "source": [
    "# Pranav Bhawsar IN1240543"
   ]
  },
  {
   "cell_type": "code",
   "execution_count": 1,
   "id": "8f50fc9b",
   "metadata": {},
   "outputs": [],
   "source": [
    "import pandas as pd, numpy as np, seaborn as sns, matplotlib.pyplot as plt"
   ]
  },
  {
   "cell_type": "code",
   "execution_count": 34,
   "id": "c67282d5",
   "metadata": {},
   "outputs": [],
   "source": [
    "import warnings\n",
    "warnings.filterwarnings(\"ignore\")\n",
    "from datetime import datetime"
   ]
  },
  {
   "cell_type": "code",
   "execution_count": 3,
   "id": "ac57bcb4",
   "metadata": {},
   "outputs": [],
   "source": [
    "df = pd.read_csv(\"EDA_task_4.csv\")"
   ]
  },
  {
   "cell_type": "code",
   "execution_count": 4,
   "id": "42f3b30a",
   "metadata": {},
   "outputs": [
    {
     "data": {
      "text/html": [
       "<div>\n",
       "<style scoped>\n",
       "    .dataframe tbody tr th:only-of-type {\n",
       "        vertical-align: middle;\n",
       "    }\n",
       "\n",
       "    .dataframe tbody tr th {\n",
       "        vertical-align: top;\n",
       "    }\n",
       "\n",
       "    .dataframe thead th {\n",
       "        text-align: right;\n",
       "    }\n",
       "</style>\n",
       "<table border=\"1\" class=\"dataframe\">\n",
       "  <thead>\n",
       "    <tr style=\"text-align: right;\">\n",
       "      <th></th>\n",
       "      <th>Unnamed: 0</th>\n",
       "      <th>ID</th>\n",
       "      <th>Salary</th>\n",
       "      <th>DOJ</th>\n",
       "      <th>DOL</th>\n",
       "      <th>Designation</th>\n",
       "      <th>JobCity</th>\n",
       "      <th>Gender</th>\n",
       "      <th>DOB</th>\n",
       "      <th>10percentage</th>\n",
       "      <th>...</th>\n",
       "      <th>ComputerScience</th>\n",
       "      <th>MechanicalEngg</th>\n",
       "      <th>ElectricalEngg</th>\n",
       "      <th>TelecomEngg</th>\n",
       "      <th>CivilEngg</th>\n",
       "      <th>conscientiousness</th>\n",
       "      <th>agreeableness</th>\n",
       "      <th>extraversion</th>\n",
       "      <th>nueroticism</th>\n",
       "      <th>openess_to_experience</th>\n",
       "    </tr>\n",
       "  </thead>\n",
       "  <tbody>\n",
       "    <tr>\n",
       "      <th>0</th>\n",
       "      <td>train</td>\n",
       "      <td>203097</td>\n",
       "      <td>420000.0</td>\n",
       "      <td>6/1/12 0:00</td>\n",
       "      <td>present</td>\n",
       "      <td>senior quality engineer</td>\n",
       "      <td>Bangalore</td>\n",
       "      <td>f</td>\n",
       "      <td>2/19/90 0:00</td>\n",
       "      <td>84.3</td>\n",
       "      <td>...</td>\n",
       "      <td>-1</td>\n",
       "      <td>-1</td>\n",
       "      <td>-1</td>\n",
       "      <td>-1</td>\n",
       "      <td>-1</td>\n",
       "      <td>0.9737</td>\n",
       "      <td>0.8128</td>\n",
       "      <td>0.5269</td>\n",
       "      <td>1.35490</td>\n",
       "      <td>-0.4455</td>\n",
       "    </tr>\n",
       "    <tr>\n",
       "      <th>1</th>\n",
       "      <td>train</td>\n",
       "      <td>579905</td>\n",
       "      <td>500000.0</td>\n",
       "      <td>9/1/13 0:00</td>\n",
       "      <td>present</td>\n",
       "      <td>assistant manager</td>\n",
       "      <td>Indore</td>\n",
       "      <td>m</td>\n",
       "      <td>10/4/89 0:00</td>\n",
       "      <td>85.4</td>\n",
       "      <td>...</td>\n",
       "      <td>-1</td>\n",
       "      <td>-1</td>\n",
       "      <td>-1</td>\n",
       "      <td>-1</td>\n",
       "      <td>-1</td>\n",
       "      <td>-0.7335</td>\n",
       "      <td>0.3789</td>\n",
       "      <td>1.2396</td>\n",
       "      <td>-0.10760</td>\n",
       "      <td>0.8637</td>\n",
       "    </tr>\n",
       "    <tr>\n",
       "      <th>2</th>\n",
       "      <td>train</td>\n",
       "      <td>810601</td>\n",
       "      <td>325000.0</td>\n",
       "      <td>6/1/14 0:00</td>\n",
       "      <td>present</td>\n",
       "      <td>systems engineer</td>\n",
       "      <td>Chennai</td>\n",
       "      <td>f</td>\n",
       "      <td>8/3/92 0:00</td>\n",
       "      <td>85.0</td>\n",
       "      <td>...</td>\n",
       "      <td>-1</td>\n",
       "      <td>-1</td>\n",
       "      <td>-1</td>\n",
       "      <td>-1</td>\n",
       "      <td>-1</td>\n",
       "      <td>0.2718</td>\n",
       "      <td>1.7109</td>\n",
       "      <td>0.1637</td>\n",
       "      <td>-0.86820</td>\n",
       "      <td>0.6721</td>\n",
       "    </tr>\n",
       "    <tr>\n",
       "      <th>3</th>\n",
       "      <td>train</td>\n",
       "      <td>267447</td>\n",
       "      <td>1100000.0</td>\n",
       "      <td>7/1/11 0:00</td>\n",
       "      <td>present</td>\n",
       "      <td>senior software engineer</td>\n",
       "      <td>Gurgaon</td>\n",
       "      <td>m</td>\n",
       "      <td>12/5/89 0:00</td>\n",
       "      <td>85.6</td>\n",
       "      <td>...</td>\n",
       "      <td>-1</td>\n",
       "      <td>-1</td>\n",
       "      <td>-1</td>\n",
       "      <td>-1</td>\n",
       "      <td>-1</td>\n",
       "      <td>0.0464</td>\n",
       "      <td>0.3448</td>\n",
       "      <td>-0.3440</td>\n",
       "      <td>-0.40780</td>\n",
       "      <td>-0.9194</td>\n",
       "    </tr>\n",
       "    <tr>\n",
       "      <th>4</th>\n",
       "      <td>train</td>\n",
       "      <td>343523</td>\n",
       "      <td>200000.0</td>\n",
       "      <td>3/1/14 0:00</td>\n",
       "      <td>3/1/15 0:00</td>\n",
       "      <td>get</td>\n",
       "      <td>Manesar</td>\n",
       "      <td>m</td>\n",
       "      <td>2/27/91 0:00</td>\n",
       "      <td>78.0</td>\n",
       "      <td>...</td>\n",
       "      <td>-1</td>\n",
       "      <td>-1</td>\n",
       "      <td>-1</td>\n",
       "      <td>-1</td>\n",
       "      <td>-1</td>\n",
       "      <td>-0.8810</td>\n",
       "      <td>-0.2793</td>\n",
       "      <td>-1.0697</td>\n",
       "      <td>0.09163</td>\n",
       "      <td>-0.1295</td>\n",
       "    </tr>\n",
       "  </tbody>\n",
       "</table>\n",
       "<p>5 rows × 39 columns</p>\n",
       "</div>"
      ],
      "text/plain": [
       "  Unnamed: 0      ID     Salary          DOJ          DOL  \\\n",
       "0      train  203097   420000.0  6/1/12 0:00      present   \n",
       "1      train  579905   500000.0  9/1/13 0:00      present   \n",
       "2      train  810601   325000.0  6/1/14 0:00      present   \n",
       "3      train  267447  1100000.0  7/1/11 0:00      present   \n",
       "4      train  343523   200000.0  3/1/14 0:00  3/1/15 0:00   \n",
       "\n",
       "                Designation    JobCity Gender           DOB  10percentage  \\\n",
       "0   senior quality engineer  Bangalore      f  2/19/90 0:00          84.3   \n",
       "1         assistant manager     Indore      m  10/4/89 0:00          85.4   \n",
       "2          systems engineer    Chennai      f   8/3/92 0:00          85.0   \n",
       "3  senior software engineer    Gurgaon      m  12/5/89 0:00          85.6   \n",
       "4                       get    Manesar      m  2/27/91 0:00          78.0   \n",
       "\n",
       "   ... ComputerScience  MechanicalEngg  ElectricalEngg TelecomEngg  CivilEngg  \\\n",
       "0  ...              -1              -1              -1          -1         -1   \n",
       "1  ...              -1              -1              -1          -1         -1   \n",
       "2  ...              -1              -1              -1          -1         -1   \n",
       "3  ...              -1              -1              -1          -1         -1   \n",
       "4  ...              -1              -1              -1          -1         -1   \n",
       "\n",
       "   conscientiousness agreeableness extraversion  nueroticism  \\\n",
       "0             0.9737        0.8128       0.5269      1.35490   \n",
       "1            -0.7335        0.3789       1.2396     -0.10760   \n",
       "2             0.2718        1.7109       0.1637     -0.86820   \n",
       "3             0.0464        0.3448      -0.3440     -0.40780   \n",
       "4            -0.8810       -0.2793      -1.0697      0.09163   \n",
       "\n",
       "   openess_to_experience  \n",
       "0                -0.4455  \n",
       "1                 0.8637  \n",
       "2                 0.6721  \n",
       "3                -0.9194  \n",
       "4                -0.1295  \n",
       "\n",
       "[5 rows x 39 columns]"
      ]
     },
     "execution_count": 4,
     "metadata": {},
     "output_type": "execute_result"
    }
   ],
   "source": [
    "df.head()"
   ]
  },
  {
   "cell_type": "code",
   "execution_count": 28,
   "id": "3b907326",
   "metadata": {},
   "outputs": [
    {
     "data": {
      "text/plain": [
       "Unnamed: 0                object\n",
       "ID                         int64\n",
       "Salary                   float64\n",
       "DOJ                       object\n",
       "DOL                       object\n",
       "Designation               object\n",
       "JobCity                   object\n",
       "Gender                    object\n",
       "DOB                       object\n",
       "10percentage             float64\n",
       "10board                   object\n",
       "12graduation               int64\n",
       "12percentage             float64\n",
       "12board                   object\n",
       "CollegeID                  int64\n",
       "CollegeTier                int64\n",
       "Degree                    object\n",
       "Specialization            object\n",
       "collegeGPA               float64\n",
       "CollegeCityID              int64\n",
       "CollegeCityTier            int64\n",
       "CollegeState              object\n",
       "GraduationYear             int64\n",
       "English                    int64\n",
       "Logical                    int64\n",
       "Quant                      int64\n",
       "Domain                   float64\n",
       "ComputerProgramming        int64\n",
       "ElectronicsAndSemicon      int64\n",
       "ComputerScience            int64\n",
       "MechanicalEngg             int64\n",
       "ElectricalEngg             int64\n",
       "TelecomEngg                int64\n",
       "CivilEngg                  int64\n",
       "conscientiousness        float64\n",
       "agreeableness            float64\n",
       "extraversion             float64\n",
       "nueroticism              float64\n",
       "openess_to_experience    float64\n",
       "dtype: object"
      ]
     },
     "execution_count": 28,
     "metadata": {},
     "output_type": "execute_result"
    }
   ],
   "source": [
    "df.dtypes"
   ]
  },
  {
   "cell_type": "code",
   "execution_count": 5,
   "id": "0dead3ac",
   "metadata": {},
   "outputs": [
    {
     "data": {
      "text/plain": [
       "Index(['Unnamed: 0', 'ID', 'Salary', 'DOJ', 'DOL', 'Designation', 'JobCity',\n",
       "       'Gender', 'DOB', '10percentage', '10board', '12graduation',\n",
       "       '12percentage', '12board', 'CollegeID', 'CollegeTier', 'Degree',\n",
       "       'Specialization', 'collegeGPA', 'CollegeCityID', 'CollegeCityTier',\n",
       "       'CollegeState', 'GraduationYear', 'English', 'Logical', 'Quant',\n",
       "       'Domain', 'ComputerProgramming', 'ElectronicsAndSemicon',\n",
       "       'ComputerScience', 'MechanicalEngg', 'ElectricalEngg', 'TelecomEngg',\n",
       "       'CivilEngg', 'conscientiousness', 'agreeableness', 'extraversion',\n",
       "       'nueroticism', 'openess_to_experience'],\n",
       "      dtype='object')"
      ]
     },
     "execution_count": 5,
     "metadata": {},
     "output_type": "execute_result"
    }
   ],
   "source": [
    "df.columns"
   ]
  },
  {
   "cell_type": "code",
   "execution_count": 18,
   "id": "834be39e",
   "metadata": {},
   "outputs": [],
   "source": [
    "def clean_row_board(row): \n",
    "    if 'cbse' in row:\n",
    "        return 'CBSE'\n",
    "    elif 'icse' in row:\n",
    "        return 'ICSE'\n",
    "    elif 'poly' in row:\n",
    "        return 'Polytechnic'\n",
    "    else:\n",
    "        return 'State Board'\n",
    "    return row\n",
    "    "
   ]
  },
  {
   "cell_type": "code",
   "execution_count": 19,
   "id": "a75fdd3c",
   "metadata": {},
   "outputs": [],
   "source": [
    "df['12board'] = df['12board'].apply(clean_row_board)"
   ]
  },
  {
   "cell_type": "code",
   "execution_count": 23,
   "id": "d0429712",
   "metadata": {},
   "outputs": [],
   "source": [
    "df['10board'] = df['10board'].apply(clean_row_board)"
   ]
  },
  {
   "cell_type": "code",
   "execution_count": 25,
   "id": "b5d1696a",
   "metadata": {},
   "outputs": [
    {
     "data": {
      "text/plain": [
       "417"
      ]
     },
     "execution_count": 25,
     "metadata": {},
     "output_type": "execute_result"
    }
   ],
   "source": [
    "df['Designation'].nunique()"
   ]
  },
  {
   "cell_type": "code",
   "execution_count": 29,
   "id": "4e801e60",
   "metadata": {},
   "outputs": [],
   "source": [
    "df['DOJ'] = pd.to_datetime(df['DOJ'])"
   ]
  },
  {
   "cell_type": "code",
   "execution_count": 61,
   "id": "decf7f3e",
   "metadata": {},
   "outputs": [],
   "source": [
    "df['DOB'] = pd.to_datetime(df['DOB'])"
   ]
  },
  {
   "cell_type": "code",
   "execution_count": 64,
   "id": "284d6526",
   "metadata": {},
   "outputs": [],
   "source": [
    "df['Age'] = 2024 - df['DOB'].dt.year "
   ]
  },
  {
   "cell_type": "code",
   "execution_count": 35,
   "id": "12af573a",
   "metadata": {},
   "outputs": [],
   "source": [
    "today_date = datetime.today().strftime('%Y-%m-%d')\n",
    "df['DOL'] = df['DOL'].replace('present', today_date)"
   ]
  },
  {
   "cell_type": "code",
   "execution_count": 41,
   "id": "95d1e300",
   "metadata": {},
   "outputs": [
    {
     "data": {
      "text/plain": [
       "array(['2024-02-20T00:00:00.000000000', '2015-03-01T00:00:00.000000000',\n",
       "       '2015-05-01T00:00:00.000000000', '2015-07-01T00:00:00.000000000',\n",
       "       '2015-04-01T00:00:00.000000000', '2014-10-01T00:00:00.000000000',\n",
       "       '2014-09-01T00:00:00.000000000', '2014-06-01T00:00:00.000000000',\n",
       "       '2012-09-01T00:00:00.000000000', '2013-12-01T00:00:00.000000000',\n",
       "       '2015-06-01T00:00:00.000000000', '2013-10-01T00:00:00.000000000',\n",
       "       '2015-01-01T00:00:00.000000000', '2014-04-01T00:00:00.000000000',\n",
       "       '2013-06-01T00:00:00.000000000', '2012-03-01T00:00:00.000000000',\n",
       "       '2014-07-01T00:00:00.000000000', '2013-02-01T00:00:00.000000000',\n",
       "       '2014-01-01T00:00:00.000000000', '2013-04-01T00:00:00.000000000',\n",
       "       '2012-07-01T00:00:00.000000000', '2014-05-01T00:00:00.000000000',\n",
       "       '2013-09-01T00:00:00.000000000', '2015-02-01T00:00:00.000000000',\n",
       "       '2012-01-01T00:00:00.000000000', '2015-08-01T00:00:00.000000000',\n",
       "       '2014-08-01T00:00:00.000000000', '2015-12-01T00:00:00.000000000',\n",
       "       '2014-12-01T00:00:00.000000000', '2012-05-01T00:00:00.000000000',\n",
       "       '2011-03-01T00:00:00.000000000', '2011-07-01T00:00:00.000000000',\n",
       "       '2014-02-01T00:00:00.000000000', '2011-12-01T00:00:00.000000000',\n",
       "       '2015-10-01T00:00:00.000000000', '2014-11-01T00:00:00.000000000',\n",
       "       '2014-03-01T00:00:00.000000000', '2011-11-01T00:00:00.000000000',\n",
       "       '2013-05-01T00:00:00.000000000', '2013-07-01T00:00:00.000000000',\n",
       "       '2013-11-01T00:00:00.000000000', '2011-01-01T00:00:00.000000000',\n",
       "       '2011-05-01T00:00:00.000000000', '2012-02-01T00:00:00.000000000',\n",
       "       '2012-11-01T00:00:00.000000000', '2012-06-01T00:00:00.000000000',\n",
       "       '2013-08-01T00:00:00.000000000', '2005-03-01T00:00:00.000000000',\n",
       "       '2013-03-01T00:00:00.000000000', '2012-10-01T00:00:00.000000000',\n",
       "       '2011-02-01T00:00:00.000000000', '2013-01-01T00:00:00.000000000',\n",
       "       '2011-06-01T00:00:00.000000000', '2015-09-01T00:00:00.000000000',\n",
       "       '2012-04-01T00:00:00.000000000', '2011-04-01T00:00:00.000000000',\n",
       "       '2012-08-01T00:00:00.000000000', '2011-10-01T00:00:00.000000000',\n",
       "       '2015-11-01T00:00:00.000000000', '2012-12-01T00:00:00.000000000',\n",
       "       '2011-09-01T00:00:00.000000000', '2011-08-01T00:00:00.000000000',\n",
       "       '2008-03-01T00:00:00.000000000', '2010-10-01T00:00:00.000000000'],\n",
       "      dtype='datetime64[ns]')"
      ]
     },
     "execution_count": 41,
     "metadata": {},
     "output_type": "execute_result"
    }
   ],
   "source": [
    "df['DOL'].unique()"
   ]
  },
  {
   "cell_type": "code",
   "execution_count": 45,
   "id": "56fb277b",
   "metadata": {},
   "outputs": [],
   "source": [
    "df['WorkYear'] = df['DOL'].dt.year - df['DOJ'].dt.year"
   ]
  },
  {
   "cell_type": "code",
   "execution_count": 65,
   "id": "7d12b559",
   "metadata": {},
   "outputs": [
    {
     "data": {
      "text/html": [
       "<div>\n",
       "<style scoped>\n",
       "    .dataframe tbody tr th:only-of-type {\n",
       "        vertical-align: middle;\n",
       "    }\n",
       "\n",
       "    .dataframe tbody tr th {\n",
       "        vertical-align: top;\n",
       "    }\n",
       "\n",
       "    .dataframe thead th {\n",
       "        text-align: right;\n",
       "    }\n",
       "</style>\n",
       "<table border=\"1\" class=\"dataframe\">\n",
       "  <thead>\n",
       "    <tr style=\"text-align: right;\">\n",
       "      <th></th>\n",
       "      <th>Unnamed: 0</th>\n",
       "      <th>ID</th>\n",
       "      <th>Salary</th>\n",
       "      <th>DOJ</th>\n",
       "      <th>DOL</th>\n",
       "      <th>Designation</th>\n",
       "      <th>JobCity</th>\n",
       "      <th>Gender</th>\n",
       "      <th>DOB</th>\n",
       "      <th>10percentage</th>\n",
       "      <th>...</th>\n",
       "      <th>ElectricalEngg</th>\n",
       "      <th>TelecomEngg</th>\n",
       "      <th>CivilEngg</th>\n",
       "      <th>conscientiousness</th>\n",
       "      <th>agreeableness</th>\n",
       "      <th>extraversion</th>\n",
       "      <th>nueroticism</th>\n",
       "      <th>openess_to_experience</th>\n",
       "      <th>WorkYear</th>\n",
       "      <th>Age</th>\n",
       "    </tr>\n",
       "  </thead>\n",
       "  <tbody>\n",
       "    <tr>\n",
       "      <th>0</th>\n",
       "      <td>train</td>\n",
       "      <td>203097</td>\n",
       "      <td>420000.0</td>\n",
       "      <td>2012-06-01</td>\n",
       "      <td>2024-02-20</td>\n",
       "      <td>senior quality engineer</td>\n",
       "      <td>Bangalore</td>\n",
       "      <td>f</td>\n",
       "      <td>1990-02-19</td>\n",
       "      <td>84.3</td>\n",
       "      <td>...</td>\n",
       "      <td>-1</td>\n",
       "      <td>-1</td>\n",
       "      <td>-1</td>\n",
       "      <td>0.9737</td>\n",
       "      <td>0.8128</td>\n",
       "      <td>0.5269</td>\n",
       "      <td>1.35490</td>\n",
       "      <td>-0.4455</td>\n",
       "      <td>12</td>\n",
       "      <td>34</td>\n",
       "    </tr>\n",
       "    <tr>\n",
       "      <th>1</th>\n",
       "      <td>train</td>\n",
       "      <td>579905</td>\n",
       "      <td>500000.0</td>\n",
       "      <td>2013-09-01</td>\n",
       "      <td>2024-02-20</td>\n",
       "      <td>assistant manager</td>\n",
       "      <td>Indore</td>\n",
       "      <td>m</td>\n",
       "      <td>1989-10-04</td>\n",
       "      <td>85.4</td>\n",
       "      <td>...</td>\n",
       "      <td>-1</td>\n",
       "      <td>-1</td>\n",
       "      <td>-1</td>\n",
       "      <td>-0.7335</td>\n",
       "      <td>0.3789</td>\n",
       "      <td>1.2396</td>\n",
       "      <td>-0.10760</td>\n",
       "      <td>0.8637</td>\n",
       "      <td>11</td>\n",
       "      <td>35</td>\n",
       "    </tr>\n",
       "    <tr>\n",
       "      <th>2</th>\n",
       "      <td>train</td>\n",
       "      <td>810601</td>\n",
       "      <td>325000.0</td>\n",
       "      <td>2014-06-01</td>\n",
       "      <td>2024-02-20</td>\n",
       "      <td>systems engineer</td>\n",
       "      <td>Chennai</td>\n",
       "      <td>f</td>\n",
       "      <td>1992-08-03</td>\n",
       "      <td>85.0</td>\n",
       "      <td>...</td>\n",
       "      <td>-1</td>\n",
       "      <td>-1</td>\n",
       "      <td>-1</td>\n",
       "      <td>0.2718</td>\n",
       "      <td>1.7109</td>\n",
       "      <td>0.1637</td>\n",
       "      <td>-0.86820</td>\n",
       "      <td>0.6721</td>\n",
       "      <td>10</td>\n",
       "      <td>32</td>\n",
       "    </tr>\n",
       "    <tr>\n",
       "      <th>3</th>\n",
       "      <td>train</td>\n",
       "      <td>267447</td>\n",
       "      <td>1100000.0</td>\n",
       "      <td>2011-07-01</td>\n",
       "      <td>2024-02-20</td>\n",
       "      <td>senior software engineer</td>\n",
       "      <td>Gurgaon</td>\n",
       "      <td>m</td>\n",
       "      <td>1989-12-05</td>\n",
       "      <td>85.6</td>\n",
       "      <td>...</td>\n",
       "      <td>-1</td>\n",
       "      <td>-1</td>\n",
       "      <td>-1</td>\n",
       "      <td>0.0464</td>\n",
       "      <td>0.3448</td>\n",
       "      <td>-0.3440</td>\n",
       "      <td>-0.40780</td>\n",
       "      <td>-0.9194</td>\n",
       "      <td>13</td>\n",
       "      <td>35</td>\n",
       "    </tr>\n",
       "    <tr>\n",
       "      <th>4</th>\n",
       "      <td>train</td>\n",
       "      <td>343523</td>\n",
       "      <td>200000.0</td>\n",
       "      <td>2014-03-01</td>\n",
       "      <td>2015-03-01</td>\n",
       "      <td>get</td>\n",
       "      <td>Manesar</td>\n",
       "      <td>m</td>\n",
       "      <td>1991-02-27</td>\n",
       "      <td>78.0</td>\n",
       "      <td>...</td>\n",
       "      <td>-1</td>\n",
       "      <td>-1</td>\n",
       "      <td>-1</td>\n",
       "      <td>-0.8810</td>\n",
       "      <td>-0.2793</td>\n",
       "      <td>-1.0697</td>\n",
       "      <td>0.09163</td>\n",
       "      <td>-0.1295</td>\n",
       "      <td>1</td>\n",
       "      <td>33</td>\n",
       "    </tr>\n",
       "  </tbody>\n",
       "</table>\n",
       "<p>5 rows × 41 columns</p>\n",
       "</div>"
      ],
      "text/plain": [
       "  Unnamed: 0      ID     Salary        DOJ        DOL  \\\n",
       "0      train  203097   420000.0 2012-06-01 2024-02-20   \n",
       "1      train  579905   500000.0 2013-09-01 2024-02-20   \n",
       "2      train  810601   325000.0 2014-06-01 2024-02-20   \n",
       "3      train  267447  1100000.0 2011-07-01 2024-02-20   \n",
       "4      train  343523   200000.0 2014-03-01 2015-03-01   \n",
       "\n",
       "                Designation    JobCity Gender        DOB  10percentage  ...  \\\n",
       "0   senior quality engineer  Bangalore      f 1990-02-19          84.3  ...   \n",
       "1         assistant manager     Indore      m 1989-10-04          85.4  ...   \n",
       "2          systems engineer    Chennai      f 1992-08-03          85.0  ...   \n",
       "3  senior software engineer    Gurgaon      m 1989-12-05          85.6  ...   \n",
       "4                       get    Manesar      m 1991-02-27          78.0  ...   \n",
       "\n",
       "  ElectricalEngg  TelecomEngg  CivilEngg conscientiousness  agreeableness  \\\n",
       "0             -1           -1         -1            0.9737         0.8128   \n",
       "1             -1           -1         -1           -0.7335         0.3789   \n",
       "2             -1           -1         -1            0.2718         1.7109   \n",
       "3             -1           -1         -1            0.0464         0.3448   \n",
       "4             -1           -1         -1           -0.8810        -0.2793   \n",
       "\n",
       "   extraversion nueroticism openess_to_experience  WorkYear  Age  \n",
       "0        0.5269     1.35490               -0.4455        12   34  \n",
       "1        1.2396    -0.10760                0.8637        11   35  \n",
       "2        0.1637    -0.86820                0.6721        10   32  \n",
       "3       -0.3440    -0.40780               -0.9194        13   35  \n",
       "4       -1.0697     0.09163               -0.1295         1   33  \n",
       "\n",
       "[5 rows x 41 columns]"
      ]
     },
     "execution_count": 65,
     "metadata": {},
     "output_type": "execute_result"
    }
   ],
   "source": [
    "df.head()"
   ]
  },
  {
   "cell_type": "code",
   "execution_count": 42,
   "id": "c56736bb",
   "metadata": {},
   "outputs": [],
   "source": [
    "df['DOL'] = pd.to_datetime(df['DOL'], errors='coerce')"
   ]
  },
  {
   "cell_type": "code",
   "execution_count": 47,
   "id": "82524a85",
   "metadata": {},
   "outputs": [
    {
     "data": {
      "text/plain": [
       "array(['computer engineering',\n",
       "       'electronics and communication engineering',\n",
       "       'information technology', 'computer science & engineering',\n",
       "       'mechanical engineering', 'electronics and electrical engineering',\n",
       "       'electronics & telecommunications',\n",
       "       'instrumentation and control engineering', 'computer application',\n",
       "       'electronics and computer engineering', 'electrical engineering',\n",
       "       'applied electronics and instrumentation',\n",
       "       'electronics & instrumentation eng',\n",
       "       'information science engineering', 'civil engineering',\n",
       "       'mechanical and automation', 'industrial & production engineering',\n",
       "       'control and instrumentation engineering',\n",
       "       'metallurgical engineering',\n",
       "       'electronics and instrumentation engineering',\n",
       "       'electronics engineering', 'ceramic engineering',\n",
       "       'chemical engineering', 'aeronautical engineering', 'other',\n",
       "       'biotechnology', 'embedded systems technology',\n",
       "       'electrical and power engineering',\n",
       "       'computer science and technology', 'mechatronics',\n",
       "       'automobile/automotive engineering', 'polymer technology',\n",
       "       'mechanical & production engineering',\n",
       "       'power systems and automation', 'instrumentation engineering',\n",
       "       'telecommunication engineering',\n",
       "       'industrial & management engineering', 'industrial engineering',\n",
       "       'computer and communication engineering',\n",
       "       'information & communication technology', 'information science',\n",
       "       'internal combustion engine', 'computer networking',\n",
       "       'biomedical engineering', 'electronics', 'computer science'],\n",
       "      dtype=object)"
      ]
     },
     "execution_count": 47,
     "metadata": {},
     "output_type": "execute_result"
    }
   ],
   "source": [
    "df['Specialization'].unique()"
   ]
  },
  {
   "cell_type": "code",
   "execution_count": 57,
   "id": "90d7c8f1",
   "metadata": {},
   "outputs": [],
   "source": [
    "def clean_row_specialisation(row): \n",
    "    if 'computer' in row:\n",
    "        return 'CSE'\n",
    "    elif 'communication' in row:\n",
    "        return 'ECE'\n",
    "    elif 'information' in row:\n",
    "        return 'IT'\n",
    "    elif 'electrical' in row:\n",
    "        return 'EEE'\n",
    "    elif 'electro' in row:\n",
    "        return 'EEE'\n",
    "    elif 'telecomm' in row:\n",
    "        return 'EEE'\n",
    "    elif 'power' in row:\n",
    "        return 'EEE'\n",
    "    elif 'embedded' in row:\n",
    "        return 'EEE'\n",
    "    elif 'combus' in row:\n",
    "        return 'Mechanical Engg'\n",
    "    elif 'polymer' in row:\n",
    "        return 'Chemical Engg'\n",
    "    elif 'chem' in row:\n",
    "        return 'Chemical Engg'\n",
    "    elif 'civil' in row:\n",
    "        return 'Civil Engg'\n",
    "    elif 'metallurgical' in row:\n",
    "        return 'Metallurgical Engg'\n",
    "    elif 'instrument' in row:\n",
    "        return 'Instrumentation Engg'\n",
    "    elif 'mech' in row:\n",
    "        return 'Mechanical Engg'\n",
    "    elif 'industrial' in row:\n",
    "        return 'Production Engg'\n",
    "    elif 'bio' in row:\n",
    "        return 'Biomedical Engineering'\n",
    "    elif 'auto' in row:\n",
    "        return 'Automobiles'\n",
    "    elif 'aero' in row:\n",
    "        return 'Aeronautical Engg'\n",
    "    elif 'ceramic' in row:\n",
    "        return 'Civil Engg'\n",
    "    return row"
   ]
  },
  {
   "cell_type": "code",
   "execution_count": 58,
   "id": "5e131106",
   "metadata": {},
   "outputs": [],
   "source": [
    "df['Specialization'] = df['Specialization'].apply(clean_row_specialisation)"
   ]
  },
  {
   "cell_type": "code",
   "execution_count": 60,
   "id": "d16e2570",
   "metadata": {},
   "outputs": [
    {
     "data": {
      "text/plain": [
       "14"
      ]
     },
     "execution_count": 60,
     "metadata": {},
     "output_type": "execute_result"
    }
   ],
   "source": [
    "df['Specialization'].nunique()"
   ]
  },
  {
   "cell_type": "code",
   "execution_count": 66,
   "id": "b117c99c",
   "metadata": {
    "scrolled": true
   },
   "outputs": [
    {
     "data": {
      "text/html": [
       "<div>\n",
       "<style scoped>\n",
       "    .dataframe tbody tr th:only-of-type {\n",
       "        vertical-align: middle;\n",
       "    }\n",
       "\n",
       "    .dataframe tbody tr th {\n",
       "        vertical-align: top;\n",
       "    }\n",
       "\n",
       "    .dataframe thead th {\n",
       "        text-align: right;\n",
       "    }\n",
       "</style>\n",
       "<table border=\"1\" class=\"dataframe\">\n",
       "  <thead>\n",
       "    <tr style=\"text-align: right;\">\n",
       "      <th></th>\n",
       "      <th>Unnamed: 0</th>\n",
       "      <th>ID</th>\n",
       "      <th>Salary</th>\n",
       "      <th>DOJ</th>\n",
       "      <th>DOL</th>\n",
       "      <th>Designation</th>\n",
       "      <th>JobCity</th>\n",
       "      <th>Gender</th>\n",
       "      <th>DOB</th>\n",
       "      <th>10percentage</th>\n",
       "      <th>...</th>\n",
       "      <th>ElectricalEngg</th>\n",
       "      <th>TelecomEngg</th>\n",
       "      <th>CivilEngg</th>\n",
       "      <th>conscientiousness</th>\n",
       "      <th>agreeableness</th>\n",
       "      <th>extraversion</th>\n",
       "      <th>nueroticism</th>\n",
       "      <th>openess_to_experience</th>\n",
       "      <th>WorkYear</th>\n",
       "      <th>Age</th>\n",
       "    </tr>\n",
       "  </thead>\n",
       "  <tbody>\n",
       "    <tr>\n",
       "      <th>0</th>\n",
       "      <td>train</td>\n",
       "      <td>203097</td>\n",
       "      <td>420000.0</td>\n",
       "      <td>2012-06-01</td>\n",
       "      <td>2024-02-20</td>\n",
       "      <td>senior quality engineer</td>\n",
       "      <td>Bangalore</td>\n",
       "      <td>f</td>\n",
       "      <td>1990-02-19</td>\n",
       "      <td>84.3</td>\n",
       "      <td>...</td>\n",
       "      <td>-1</td>\n",
       "      <td>-1</td>\n",
       "      <td>-1</td>\n",
       "      <td>0.9737</td>\n",
       "      <td>0.8128</td>\n",
       "      <td>0.5269</td>\n",
       "      <td>1.35490</td>\n",
       "      <td>-0.4455</td>\n",
       "      <td>12</td>\n",
       "      <td>34</td>\n",
       "    </tr>\n",
       "    <tr>\n",
       "      <th>1</th>\n",
       "      <td>train</td>\n",
       "      <td>579905</td>\n",
       "      <td>500000.0</td>\n",
       "      <td>2013-09-01</td>\n",
       "      <td>2024-02-20</td>\n",
       "      <td>assistant manager</td>\n",
       "      <td>Indore</td>\n",
       "      <td>m</td>\n",
       "      <td>1989-10-04</td>\n",
       "      <td>85.4</td>\n",
       "      <td>...</td>\n",
       "      <td>-1</td>\n",
       "      <td>-1</td>\n",
       "      <td>-1</td>\n",
       "      <td>-0.7335</td>\n",
       "      <td>0.3789</td>\n",
       "      <td>1.2396</td>\n",
       "      <td>-0.10760</td>\n",
       "      <td>0.8637</td>\n",
       "      <td>11</td>\n",
       "      <td>35</td>\n",
       "    </tr>\n",
       "    <tr>\n",
       "      <th>2</th>\n",
       "      <td>train</td>\n",
       "      <td>810601</td>\n",
       "      <td>325000.0</td>\n",
       "      <td>2014-06-01</td>\n",
       "      <td>2024-02-20</td>\n",
       "      <td>systems engineer</td>\n",
       "      <td>Chennai</td>\n",
       "      <td>f</td>\n",
       "      <td>1992-08-03</td>\n",
       "      <td>85.0</td>\n",
       "      <td>...</td>\n",
       "      <td>-1</td>\n",
       "      <td>-1</td>\n",
       "      <td>-1</td>\n",
       "      <td>0.2718</td>\n",
       "      <td>1.7109</td>\n",
       "      <td>0.1637</td>\n",
       "      <td>-0.86820</td>\n",
       "      <td>0.6721</td>\n",
       "      <td>10</td>\n",
       "      <td>32</td>\n",
       "    </tr>\n",
       "    <tr>\n",
       "      <th>3</th>\n",
       "      <td>train</td>\n",
       "      <td>267447</td>\n",
       "      <td>1100000.0</td>\n",
       "      <td>2011-07-01</td>\n",
       "      <td>2024-02-20</td>\n",
       "      <td>senior software engineer</td>\n",
       "      <td>Gurgaon</td>\n",
       "      <td>m</td>\n",
       "      <td>1989-12-05</td>\n",
       "      <td>85.6</td>\n",
       "      <td>...</td>\n",
       "      <td>-1</td>\n",
       "      <td>-1</td>\n",
       "      <td>-1</td>\n",
       "      <td>0.0464</td>\n",
       "      <td>0.3448</td>\n",
       "      <td>-0.3440</td>\n",
       "      <td>-0.40780</td>\n",
       "      <td>-0.9194</td>\n",
       "      <td>13</td>\n",
       "      <td>35</td>\n",
       "    </tr>\n",
       "    <tr>\n",
       "      <th>4</th>\n",
       "      <td>train</td>\n",
       "      <td>343523</td>\n",
       "      <td>200000.0</td>\n",
       "      <td>2014-03-01</td>\n",
       "      <td>2015-03-01</td>\n",
       "      <td>get</td>\n",
       "      <td>Manesar</td>\n",
       "      <td>m</td>\n",
       "      <td>1991-02-27</td>\n",
       "      <td>78.0</td>\n",
       "      <td>...</td>\n",
       "      <td>-1</td>\n",
       "      <td>-1</td>\n",
       "      <td>-1</td>\n",
       "      <td>-0.8810</td>\n",
       "      <td>-0.2793</td>\n",
       "      <td>-1.0697</td>\n",
       "      <td>0.09163</td>\n",
       "      <td>-0.1295</td>\n",
       "      <td>1</td>\n",
       "      <td>33</td>\n",
       "    </tr>\n",
       "  </tbody>\n",
       "</table>\n",
       "<p>5 rows × 41 columns</p>\n",
       "</div>"
      ],
      "text/plain": [
       "  Unnamed: 0      ID     Salary        DOJ        DOL  \\\n",
       "0      train  203097   420000.0 2012-06-01 2024-02-20   \n",
       "1      train  579905   500000.0 2013-09-01 2024-02-20   \n",
       "2      train  810601   325000.0 2014-06-01 2024-02-20   \n",
       "3      train  267447  1100000.0 2011-07-01 2024-02-20   \n",
       "4      train  343523   200000.0 2014-03-01 2015-03-01   \n",
       "\n",
       "                Designation    JobCity Gender        DOB  10percentage  ...  \\\n",
       "0   senior quality engineer  Bangalore      f 1990-02-19          84.3  ...   \n",
       "1         assistant manager     Indore      m 1989-10-04          85.4  ...   \n",
       "2          systems engineer    Chennai      f 1992-08-03          85.0  ...   \n",
       "3  senior software engineer    Gurgaon      m 1989-12-05          85.6  ...   \n",
       "4                       get    Manesar      m 1991-02-27          78.0  ...   \n",
       "\n",
       "  ElectricalEngg  TelecomEngg  CivilEngg conscientiousness  agreeableness  \\\n",
       "0             -1           -1         -1            0.9737         0.8128   \n",
       "1             -1           -1         -1           -0.7335         0.3789   \n",
       "2             -1           -1         -1            0.2718         1.7109   \n",
       "3             -1           -1         -1            0.0464         0.3448   \n",
       "4             -1           -1         -1           -0.8810        -0.2793   \n",
       "\n",
       "   extraversion nueroticism openess_to_experience  WorkYear  Age  \n",
       "0        0.5269     1.35490               -0.4455        12   34  \n",
       "1        1.2396    -0.10760                0.8637        11   35  \n",
       "2        0.1637    -0.86820                0.6721        10   32  \n",
       "3       -0.3440    -0.40780               -0.9194        13   35  \n",
       "4       -1.0697     0.09163               -0.1295         1   33  \n",
       "\n",
       "[5 rows x 41 columns]"
      ]
     },
     "execution_count": 66,
     "metadata": {},
     "output_type": "execute_result"
    }
   ],
   "source": [
    "df.head()"
   ]
  },
  {
   "cell_type": "code",
   "execution_count": 68,
   "id": "76eaf719",
   "metadata": {},
   "outputs": [
    {
     "data": {
      "text/plain": [
       "Index(['Unnamed: 0', 'ID', 'Salary', 'DOJ', 'DOL', 'Designation', 'JobCity',\n",
       "       'Gender', 'DOB', '10percentage', '10board', '12graduation',\n",
       "       '12percentage', '12board', 'CollegeID', 'CollegeTier', 'Degree',\n",
       "       'Specialization', 'collegeGPA', 'CollegeCityID', 'CollegeCityTier',\n",
       "       'CollegeState', 'GraduationYear', 'English', 'Logical', 'Quant',\n",
       "       'Domain', 'ComputerProgramming', 'ElectronicsAndSemicon',\n",
       "       'ComputerScience', 'MechanicalEngg', 'ElectricalEngg', 'TelecomEngg',\n",
       "       'CivilEngg', 'conscientiousness', 'agreeableness', 'extraversion',\n",
       "       'nueroticism', 'openess_to_experience', 'WorkYear', 'Age'],\n",
       "      dtype='object')"
      ]
     },
     "execution_count": 68,
     "metadata": {},
     "output_type": "execute_result"
    }
   ],
   "source": [
    "df.columns"
   ]
  },
  {
   "cell_type": "code",
   "execution_count": 69,
   "id": "9ef23aee",
   "metadata": {},
   "outputs": [],
   "source": [
    "amcat_scores = df[['English','Logical','Quant','ComputerProgramming','ElectronicsAndSemicon',\n",
    "                   'ComputerScience','MechanicalEngg','ElectricalEngg','TelecomEngg','CivilEngg']]"
   ]
  },
  {
   "cell_type": "code",
   "execution_count": 70,
   "id": "732da903",
   "metadata": {},
   "outputs": [
    {
     "data": {
      "text/html": [
       "<div>\n",
       "<style scoped>\n",
       "    .dataframe tbody tr th:only-of-type {\n",
       "        vertical-align: middle;\n",
       "    }\n",
       "\n",
       "    .dataframe tbody tr th {\n",
       "        vertical-align: top;\n",
       "    }\n",
       "\n",
       "    .dataframe thead th {\n",
       "        text-align: right;\n",
       "    }\n",
       "</style>\n",
       "<table border=\"1\" class=\"dataframe\">\n",
       "  <thead>\n",
       "    <tr style=\"text-align: right;\">\n",
       "      <th></th>\n",
       "      <th>English</th>\n",
       "      <th>Logical</th>\n",
       "      <th>Quant</th>\n",
       "      <th>ComputerProgramming</th>\n",
       "      <th>ElectronicsAndSemicon</th>\n",
       "      <th>ComputerScience</th>\n",
       "      <th>MechanicalEngg</th>\n",
       "      <th>ElectricalEngg</th>\n",
       "      <th>TelecomEngg</th>\n",
       "      <th>CivilEngg</th>\n",
       "    </tr>\n",
       "  </thead>\n",
       "  <tbody>\n",
       "    <tr>\n",
       "      <th>0</th>\n",
       "      <td>515</td>\n",
       "      <td>585</td>\n",
       "      <td>525</td>\n",
       "      <td>445</td>\n",
       "      <td>-1</td>\n",
       "      <td>-1</td>\n",
       "      <td>-1</td>\n",
       "      <td>-1</td>\n",
       "      <td>-1</td>\n",
       "      <td>-1</td>\n",
       "    </tr>\n",
       "    <tr>\n",
       "      <th>1</th>\n",
       "      <td>695</td>\n",
       "      <td>610</td>\n",
       "      <td>780</td>\n",
       "      <td>-1</td>\n",
       "      <td>466</td>\n",
       "      <td>-1</td>\n",
       "      <td>-1</td>\n",
       "      <td>-1</td>\n",
       "      <td>-1</td>\n",
       "      <td>-1</td>\n",
       "    </tr>\n",
       "    <tr>\n",
       "      <th>2</th>\n",
       "      <td>615</td>\n",
       "      <td>545</td>\n",
       "      <td>370</td>\n",
       "      <td>395</td>\n",
       "      <td>-1</td>\n",
       "      <td>-1</td>\n",
       "      <td>-1</td>\n",
       "      <td>-1</td>\n",
       "      <td>-1</td>\n",
       "      <td>-1</td>\n",
       "    </tr>\n",
       "    <tr>\n",
       "      <th>3</th>\n",
       "      <td>635</td>\n",
       "      <td>585</td>\n",
       "      <td>625</td>\n",
       "      <td>615</td>\n",
       "      <td>-1</td>\n",
       "      <td>-1</td>\n",
       "      <td>-1</td>\n",
       "      <td>-1</td>\n",
       "      <td>-1</td>\n",
       "      <td>-1</td>\n",
       "    </tr>\n",
       "    <tr>\n",
       "      <th>4</th>\n",
       "      <td>545</td>\n",
       "      <td>625</td>\n",
       "      <td>465</td>\n",
       "      <td>-1</td>\n",
       "      <td>233</td>\n",
       "      <td>-1</td>\n",
       "      <td>-1</td>\n",
       "      <td>-1</td>\n",
       "      <td>-1</td>\n",
       "      <td>-1</td>\n",
       "    </tr>\n",
       "    <tr>\n",
       "      <th>...</th>\n",
       "      <td>...</td>\n",
       "      <td>...</td>\n",
       "      <td>...</td>\n",
       "      <td>...</td>\n",
       "      <td>...</td>\n",
       "      <td>...</td>\n",
       "      <td>...</td>\n",
       "      <td>...</td>\n",
       "      <td>...</td>\n",
       "      <td>...</td>\n",
       "    </tr>\n",
       "    <tr>\n",
       "      <th>3993</th>\n",
       "      <td>365</td>\n",
       "      <td>334</td>\n",
       "      <td>475</td>\n",
       "      <td>345</td>\n",
       "      <td>-1</td>\n",
       "      <td>-1</td>\n",
       "      <td>-1</td>\n",
       "      <td>-1</td>\n",
       "      <td>-1</td>\n",
       "      <td>-1</td>\n",
       "    </tr>\n",
       "    <tr>\n",
       "      <th>3994</th>\n",
       "      <td>415</td>\n",
       "      <td>410</td>\n",
       "      <td>535</td>\n",
       "      <td>325</td>\n",
       "      <td>420</td>\n",
       "      <td>-1</td>\n",
       "      <td>-1</td>\n",
       "      <td>-1</td>\n",
       "      <td>-1</td>\n",
       "      <td>-1</td>\n",
       "    </tr>\n",
       "    <tr>\n",
       "      <th>3995</th>\n",
       "      <td>475</td>\n",
       "      <td>475</td>\n",
       "      <td>465</td>\n",
       "      <td>405</td>\n",
       "      <td>-1</td>\n",
       "      <td>-1</td>\n",
       "      <td>-1</td>\n",
       "      <td>-1</td>\n",
       "      <td>-1</td>\n",
       "      <td>-1</td>\n",
       "    </tr>\n",
       "    <tr>\n",
       "      <th>3996</th>\n",
       "      <td>450</td>\n",
       "      <td>410</td>\n",
       "      <td>320</td>\n",
       "      <td>445</td>\n",
       "      <td>-1</td>\n",
       "      <td>438</td>\n",
       "      <td>-1</td>\n",
       "      <td>-1</td>\n",
       "      <td>-1</td>\n",
       "      <td>-1</td>\n",
       "    </tr>\n",
       "    <tr>\n",
       "      <th>3997</th>\n",
       "      <td>565</td>\n",
       "      <td>515</td>\n",
       "      <td>464</td>\n",
       "      <td>435</td>\n",
       "      <td>-1</td>\n",
       "      <td>-1</td>\n",
       "      <td>-1</td>\n",
       "      <td>-1</td>\n",
       "      <td>-1</td>\n",
       "      <td>-1</td>\n",
       "    </tr>\n",
       "  </tbody>\n",
       "</table>\n",
       "<p>3964 rows × 10 columns</p>\n",
       "</div>"
      ],
      "text/plain": [
       "      English  Logical  Quant  ComputerProgramming  ElectronicsAndSemicon  \\\n",
       "0         515      585    525                  445                     -1   \n",
       "1         695      610    780                   -1                    466   \n",
       "2         615      545    370                  395                     -1   \n",
       "3         635      585    625                  615                     -1   \n",
       "4         545      625    465                   -1                    233   \n",
       "...       ...      ...    ...                  ...                    ...   \n",
       "3993      365      334    475                  345                     -1   \n",
       "3994      415      410    535                  325                    420   \n",
       "3995      475      475    465                  405                     -1   \n",
       "3996      450      410    320                  445                     -1   \n",
       "3997      565      515    464                  435                     -1   \n",
       "\n",
       "      ComputerScience  MechanicalEngg  ElectricalEngg  TelecomEngg  CivilEngg  \n",
       "0                  -1              -1              -1           -1         -1  \n",
       "1                  -1              -1              -1           -1         -1  \n",
       "2                  -1              -1              -1           -1         -1  \n",
       "3                  -1              -1              -1           -1         -1  \n",
       "4                  -1              -1              -1           -1         -1  \n",
       "...               ...             ...             ...          ...        ...  \n",
       "3993               -1              -1              -1           -1         -1  \n",
       "3994               -1              -1              -1           -1         -1  \n",
       "3995               -1              -1              -1           -1         -1  \n",
       "3996              438              -1              -1           -1         -1  \n",
       "3997               -1              -1              -1           -1         -1  \n",
       "\n",
       "[3964 rows x 10 columns]"
      ]
     },
     "execution_count": 70,
     "metadata": {},
     "output_type": "execute_result"
    }
   ],
   "source": [
    "amcat_scores"
   ]
  },
  {
   "cell_type": "code",
   "execution_count": 94,
   "id": "5254b8ef",
   "metadata": {},
   "outputs": [
    {
     "data": {
      "text/html": [
       "<div>\n",
       "<style scoped>\n",
       "    .dataframe tbody tr th:only-of-type {\n",
       "        vertical-align: middle;\n",
       "    }\n",
       "\n",
       "    .dataframe tbody tr th {\n",
       "        vertical-align: top;\n",
       "    }\n",
       "\n",
       "    .dataframe thead th {\n",
       "        text-align: right;\n",
       "    }\n",
       "</style>\n",
       "<table border=\"1\" class=\"dataframe\">\n",
       "  <thead>\n",
       "    <tr style=\"text-align: right;\">\n",
       "      <th></th>\n",
       "      <th>Appeared</th>\n",
       "      <th>Non-Appeared</th>\n",
       "      <th>Percentage_appeared</th>\n",
       "    </tr>\n",
       "  </thead>\n",
       "  <tbody>\n",
       "    <tr>\n",
       "      <th>English</th>\n",
       "      <td>3964</td>\n",
       "      <td>0</td>\n",
       "      <td>100.00</td>\n",
       "    </tr>\n",
       "    <tr>\n",
       "      <th>Logical</th>\n",
       "      <td>3964</td>\n",
       "      <td>0</td>\n",
       "      <td>100.00</td>\n",
       "    </tr>\n",
       "    <tr>\n",
       "      <th>Quant</th>\n",
       "      <td>3964</td>\n",
       "      <td>0</td>\n",
       "      <td>100.00</td>\n",
       "    </tr>\n",
       "    <tr>\n",
       "      <th>ComputerProgramming</th>\n",
       "      <td>3099</td>\n",
       "      <td>865</td>\n",
       "      <td>78.18</td>\n",
       "    </tr>\n",
       "    <tr>\n",
       "      <th>ElectronicsAndSemicon</th>\n",
       "      <td>1135</td>\n",
       "      <td>2829</td>\n",
       "      <td>28.63</td>\n",
       "    </tr>\n",
       "    <tr>\n",
       "      <th>ComputerScience</th>\n",
       "      <td>899</td>\n",
       "      <td>3065</td>\n",
       "      <td>22.68</td>\n",
       "    </tr>\n",
       "    <tr>\n",
       "      <th>MechanicalEngg</th>\n",
       "      <td>234</td>\n",
       "      <td>3730</td>\n",
       "      <td>5.90</td>\n",
       "    </tr>\n",
       "    <tr>\n",
       "      <th>ElectricalEngg</th>\n",
       "      <td>157</td>\n",
       "      <td>3807</td>\n",
       "      <td>3.96</td>\n",
       "    </tr>\n",
       "    <tr>\n",
       "      <th>TelecomEngg</th>\n",
       "      <td>374</td>\n",
       "      <td>3590</td>\n",
       "      <td>9.43</td>\n",
       "    </tr>\n",
       "    <tr>\n",
       "      <th>CivilEngg</th>\n",
       "      <td>42</td>\n",
       "      <td>3922</td>\n",
       "      <td>1.06</td>\n",
       "    </tr>\n",
       "  </tbody>\n",
       "</table>\n",
       "</div>"
      ],
      "text/plain": [
       "                       Appeared  Non-Appeared  Percentage_appeared\n",
       "English                    3964             0               100.00\n",
       "Logical                    3964             0               100.00\n",
       "Quant                      3964             0               100.00\n",
       "ComputerProgramming        3099           865                78.18\n",
       "ElectronicsAndSemicon      1135          2829                28.63\n",
       "ComputerScience             899          3065                22.68\n",
       "MechanicalEngg              234          3730                 5.90\n",
       "ElectricalEngg              157          3807                 3.96\n",
       "TelecomEngg                 374          3590                 9.43\n",
       "CivilEngg                    42          3922                 1.06"
      ]
     },
     "execution_count": 94,
     "metadata": {},
     "output_type": "execute_result"
    }
   ],
   "source": [
    "subject_counts = pd.DataFrame(index=amcat_scores.columns, columns=['Appeared', 'Non-Appeared'])\n",
    "\n",
    "# Counting appeared and non-appeared for each subject\n",
    "subject_counts['Appeared'] = (amcat_scores != -1).sum()\n",
    "subject_counts['Non-Appeared'] = (amcat_scores == -1).sum()\n",
    "subject_counts['Percentage_appeared'] = round((subject_counts['Appeared']/3964)*100,2)\n",
    "subject_counts.head(10)"
   ]
  },
  {
   "cell_type": "code",
   "execution_count": 103,
   "id": "2823773c",
   "metadata": {
    "scrolled": true
   },
   "outputs": [
    {
     "data": {
      "text/plain": [
       "Text(0.5, 1.0, 'Percentage of Students Appeared in Each Subject')"
      ]
     },
     "execution_count": 103,
     "metadata": {},
     "output_type": "execute_result"
    },
    {
     "data": {
      "image/png": "[encoded data removed]",
      "text/plain": [
       "<Figure size 432x288 with 1 Axes>"
      ]
     },
     "metadata": {
      "needs_background": "light"
     },
     "output_type": "display_data"
    }
   ],
   "source": [
    "plt.barh(width=subject_counts['Percentage_appeared'],y=subject_counts.index)\n",
    "plt.xlabel('Percentage Appeared')\n",
    "plt.ylabel('Subjects')\n",
    "plt.title('Percentage of Students Appeared in Each Subject')"
   ]
  },
  {
   "cell_type": "markdown",
   "id": "33420137",
   "metadata": {},
   "source": [
    "# Univariate Analysis"
   ]
  },
  {
   "cell_type": "code",
   "execution_count": 7,
   "id": "7ca8ec3a",
   "metadata": {},
   "outputs": [],
   "source": [
    "def discrete_non_viz_analysis(data):\n",
    "    '''\n",
    "    This function performs a complete statistical \n",
    "    analysis of discrete data (categorical and numerical).\n",
    "    '''\n",
    "    series = pd.Series(data)\n",
    "    print(series.agg(['count', 'nunique', 'unique']))\n",
    "    print('Value Counts: \\n', series.value_counts())\n",
    "    print()\n",
    "\n",
    "\n",
    "def continuous_non_viz_analysis(data):\n",
    "    '''\n",
    "    This function performs a complete statistical \n",
    "    analysis of continuous numerical data.\n",
    "    '''\n",
    "    series = pd.Series(data)\n",
    "    print(series.agg(['count', 'min', 'max', 'mean', 'median', 'var', 'std', 'skew', 'kurt']).round(2))\n",
    "    print()\n",
    "\n",
    "def discrete_viz_analysis(data):\n",
    "    '''\n",
    "    This function performs a complete visual \n",
    "    analysis of discrete data (categorical and numerical).\n",
    "    '''\n",
    "    fig, ax = plt.subplots(figsize=(5, 3), constrained_layout=True)\n",
    "    fig.suptitle(\"Discrete Distribution Plot\")\n",
    "    \n",
    "    ax.set_title(\"Count Plot\")\n",
    "    sns.countplot(x=data, ax=ax)\n",
    "    \n",
    "    plt.xticks(rotation=45)\n",
    "    plt.show()\n",
    "\n",
    "\n",
    "\n",
    "def continuous_viz_analysis(data):\n",
    "    '''\n",
    "    This function performs a complete visual \n",
    "    analysis of continuous numerical data.\n",
    "    '''\n",
    "\n",
    "    fig, axes = plt.subplots(1, 3, figsize=(8, 3), constrained_layout=True)\n",
    "    fig.suptitle(\"Continuous Distribution Plot\")\n",
    "    \n",
    "    axes[0].set_title(\"Histogram Plot\")\n",
    "    sns.histplot(data, ax=axes[0])\n",
    "    \n",
    "    axes[1].set_title(\"KDE Plot\")\n",
    "    sns.kdeplot(data, fill=True, ax=axes[1])\n",
    "\n",
    "    axes[2].set_title(\"Box Plot\")\n",
    "    sns.boxplot(data, ax=axes[2])\n",
    "\n",
    "    plt.show()\n",
    "    \n",
    "def iqr_technique(DFcolumn):\n",
    "    Q1 = np.percentile(DFcolumn, 25)\n",
    "    Q3 = np.percentile(DFcolumn, 75)\n",
    "    IQR = Q3 - Q1\n",
    "    lower_range = Q1 - (1.5 * IQR)\n",
    "    upper_range = Q3 + (1.5 * IQR)\n",
    "\n",
    "    return lower_range,upper_range"
   ]
  },
  {
   "cell_type": "markdown",
   "id": "bafa4fd7",
   "metadata": {},
   "source": [
    "### Salary"
   ]
  },
  {
   "cell_type": "code",
   "execution_count": 8,
   "id": "1def5e09",
   "metadata": {
    "scrolled": true
   },
   "outputs": [
    {
     "name": "stdout",
     "output_type": "stream",
     "text": [
      "count     3.998000e+03\n",
      "min       3.500000e+04\n",
      "max       4.000000e+06\n",
      "mean      3.076998e+05\n",
      "median    3.000000e+05\n",
      "var       4.525724e+10\n",
      "std       2.127375e+05\n",
      "skew      6.450000e+00\n",
      "kurt      8.093000e+01\n",
      "Name: Salary, dtype: float64\n",
      "\n"
     ]
    }
   ],
   "source": [
    "continuous_non_viz_analysis(df['Salary'])"
   ]
  },
  {
   "cell_type": "code",
   "execution_count": 9,
   "id": "f59eb4f5",
   "metadata": {},
   "outputs": [
    {
     "data": {
      "image/png": "[encoded data removed]",
      "text/plain": [
       "<Figure size 576x216 with 3 Axes>"
      ]
     },
     "metadata": {
      "needs_background": "light"
     },
     "output_type": "display_data"
    }
   ],
   "source": [
    "continuous_viz_analysis(df['Salary'])"
   ]
  },
  {
   "cell_type": "markdown",
   "id": "18a7e087",
   "metadata": {},
   "source": [
    "### Graduation Year"
   ]
  },
  {
   "cell_type": "code",
   "execution_count": 10,
   "id": "8ec40c57",
   "metadata": {},
   "outputs": [
    {
     "data": {
      "image/png": "[encoded data removed]",
      "text/plain": [
       "<Figure size 576x216 with 3 Axes>"
      ]
     },
     "metadata": {
      "needs_background": "light"
     },
     "output_type": "display_data"
    }
   ],
   "source": [
    "continuous_viz_analysis(df['GraduationYear'])"
   ]
  },
  {
   "cell_type": "code",
   "execution_count": 11,
   "id": "d198732d",
   "metadata": {},
   "outputs": [],
   "source": [
    "# Remove outliers for Graduation Year and perform EDA\n",
    "percentile25 = df['GraduationYear'].quantile(0.25)\n",
    "percentile75 = df['GraduationYear'].quantile(0.75)"
   ]
  },
  {
   "cell_type": "code",
   "execution_count": 12,
   "id": "28eb3978",
   "metadata": {},
   "outputs": [],
   "source": [
    "iqr=percentile75-percentile25"
   ]
  },
  {
   "cell_type": "code",
   "execution_count": 13,
   "id": "1c121752",
   "metadata": {},
   "outputs": [],
   "source": [
    "upper_limit = percentile75 + 1.5 * iqr\n",
    "lower_limit = percentile25 - 1.5 * iqr"
   ]
  },
  {
   "cell_type": "code",
   "execution_count": 14,
   "id": "7c4878e3",
   "metadata": {},
   "outputs": [],
   "source": [
    "df = df[df['GraduationYear'] < upper_limit]\n",
    "df = df[df['GraduationYear'] > lower_limit]"
   ]
  },
  {
   "cell_type": "code",
   "execution_count": 15,
   "id": "ecb57601",
   "metadata": {},
   "outputs": [
    {
     "data": {
      "image/png": "[encoded data removed]",
      "text/plain": [
       "<Figure size 576x216 with 3 Axes>"
      ]
     },
     "metadata": {
      "needs_background": "light"
     },
     "output_type": "display_data"
    }
   ],
   "source": [
    "continuous_viz_analysis(df['GraduationYear'])"
   ]
  },
  {
   "cell_type": "markdown",
   "id": "d2278a84",
   "metadata": {},
   "source": [
    "## Salary vs Gender"
   ]
  },
  {
   "cell_type": "code",
   "execution_count": 16,
   "id": "eeb3bc96",
   "metadata": {},
   "outputs": [
    {
     "data": {
      "text/plain": [
       "<Axes: xlabel='Gender', ylabel='Salary'>"
      ]
     },
     "execution_count": 16,
     "metadata": {},
     "output_type": "execute_result"
    },
    {
     "data": {
      "image/png": "[encoded data removed]",
      "text/plain": [
       "<Figure size 432x288 with 1 Axes>"
      ]
     },
     "metadata": {
      "needs_background": "light"
     },
     "output_type": "display_data"
    }
   ],
   "source": [
    "sns.boxenplot(data=df, x=\"Gender\", y=\"Salary\")"
   ]
  },
  {
   "cell_type": "markdown",
   "id": "09e70f14",
   "metadata": {},
   "source": [
    " Men are earning more salary than women"
   ]
  },
  {
   "cell_type": "markdown",
   "id": "a865619f",
   "metadata": {},
   "source": [
    "## Salary vs Experience"
   ]
  },
  {
   "cell_type": "code",
   "execution_count": 89,
   "id": "f54fcc39",
   "metadata": {
    "scrolled": true
   },
   "outputs": [
    {
     "data": {
      "text/plain": [
       "<seaborn.axisgrid.FacetGrid at 0x7faf09869700>"
      ]
     },
     "execution_count": 89,
     "metadata": {},
     "output_type": "execute_result"
    },
    {
     "data": {
      "image/png": "[encoded data removed]",
      "text/plain": [
       "<Figure size 360x360 with 1 Axes>"
      ]
     },
     "metadata": {
      "needs_background": "light"
     },
     "output_type": "display_data"
    }
   ],
   "source": [
    "sns.lmplot(x=\"WorkYear\", y=\"Salary\", data=df)"
   ]
  },
  {
   "cell_type": "markdown",
   "id": "ca18d04f",
   "metadata": {},
   "source": [
    "## Age vs Experience"
   ]
  },
  {
   "cell_type": "code",
   "execution_count": 92,
   "id": "924f435f",
   "metadata": {
    "scrolled": true
   },
   "outputs": [
    {
     "data": {
      "text/plain": [
       "<seaborn.axisgrid.FacetGrid at 0x7faf0d3e5a90>"
      ]
     },
     "execution_count": 92,
     "metadata": {},
     "output_type": "execute_result"
    },
    {
     "data": {
      "image/png": "[encoded data removed]",
      "text/plain": [
       "<Figure size 360x360 with 1 Axes>"
      ]
     },
     "metadata": {
      "needs_background": "light"
     },
     "output_type": "display_data"
    }
   ],
   "source": [
    "sns.lmplot(x=\"Age\", y=\"WorkYear\", data=df)"
   ]
  },
  {
   "cell_type": "markdown",
   "id": "0c21ae1e",
   "metadata": {},
   "source": [
    "Despite of age groups, everyone has worked on an average of 6 years in this company"
   ]
  },
  {
   "cell_type": "markdown",
   "id": "5194702d",
   "metadata": {},
   "source": [
    "## 10th and 12th board are same?"
   ]
  },
  {
   "cell_type": "code",
   "execution_count": 105,
   "id": "9d2621b3",
   "metadata": {
    "scrolled": true
   },
   "outputs": [
    {
     "name": "stdout",
     "output_type": "stream",
     "text": [
      "Chi-square value: 4503.586119294458\n",
      "P-value: 0.0\n",
      "Is the result significant at 0.05 level? Yes\n"
     ]
    }
   ],
   "source": [
    "from scipy.stats import chi2_contingency\n",
    "\n",
    "contingency_table = pd.crosstab(df['10board'], df['12board'])\n",
    "chi2, p, _, _ = chi2_contingency(contingency_table)\n",
    "\n",
    "\n",
    "print(f\"Chi-square value: {chi2}\")\n",
    "print(f\"P-value: {p}\")\n",
    "\n",
    "\n",
    "alpha = 0.05\n",
    "print(f\"Is the result significant at {alpha} level? {'Yes' if p < alpha else 'No'}\")"
   ]
  },
  {
   "cell_type": "markdown",
   "id": "cde30b56",
   "metadata": {},
   "source": [
    "there is a statistically significant association between the type of board studied in 10th grade and the type of board studied in 12th grade."
   ]
  },
  {
   "cell_type": "code",
   "execution_count": 110,
   "id": "7741fc97",
   "metadata": {},
   "outputs": [
    {
     "data": {
      "text/plain": [
       "array(['f', 'm'], dtype=object)"
      ]
     },
     "execution_count": 110,
     "metadata": {},
     "output_type": "execute_result"
    }
   ],
   "source": [
    "df['Gender'].unique()"
   ]
  },
  {
   "cell_type": "code",
   "execution_count": 113,
   "id": "b8dc412c",
   "metadata": {},
   "outputs": [],
   "source": [
    "amcat_scores['Average'] = (amcat_scores['English'] + amcat_scores['Logical'] + amcat_scores['Quant'])/3"
   ]
  },
  {
   "cell_type": "code",
   "execution_count": 114,
   "id": "55c6fba7",
   "metadata": {},
   "outputs": [
    {
     "data": {
      "text/html": [
       "<div>\n",
       "<style scoped>\n",
       "    .dataframe tbody tr th:only-of-type {\n",
       "        vertical-align: middle;\n",
       "    }\n",
       "\n",
       "    .dataframe tbody tr th {\n",
       "        vertical-align: top;\n",
       "    }\n",
       "\n",
       "    .dataframe thead th {\n",
       "        text-align: right;\n",
       "    }\n",
       "</style>\n",
       "<table border=\"1\" class=\"dataframe\">\n",
       "  <thead>\n",
       "    <tr style=\"text-align: right;\">\n",
       "      <th></th>\n",
       "      <th>English</th>\n",
       "      <th>Logical</th>\n",
       "      <th>Quant</th>\n",
       "      <th>ComputerProgramming</th>\n",
       "      <th>ElectronicsAndSemicon</th>\n",
       "      <th>ComputerScience</th>\n",
       "      <th>MechanicalEngg</th>\n",
       "      <th>ElectricalEngg</th>\n",
       "      <th>TelecomEngg</th>\n",
       "      <th>CivilEngg</th>\n",
       "      <th>Average</th>\n",
       "    </tr>\n",
       "  </thead>\n",
       "  <tbody>\n",
       "    <tr>\n",
       "      <th>0</th>\n",
       "      <td>515</td>\n",
       "      <td>585</td>\n",
       "      <td>525</td>\n",
       "      <td>445</td>\n",
       "      <td>-1</td>\n",
       "      <td>-1</td>\n",
       "      <td>-1</td>\n",
       "      <td>-1</td>\n",
       "      <td>-1</td>\n",
       "      <td>-1</td>\n",
       "      <td>541.666667</td>\n",
       "    </tr>\n",
       "    <tr>\n",
       "      <th>1</th>\n",
       "      <td>695</td>\n",
       "      <td>610</td>\n",
       "      <td>780</td>\n",
       "      <td>-1</td>\n",
       "      <td>466</td>\n",
       "      <td>-1</td>\n",
       "      <td>-1</td>\n",
       "      <td>-1</td>\n",
       "      <td>-1</td>\n",
       "      <td>-1</td>\n",
       "      <td>695.000000</td>\n",
       "    </tr>\n",
       "    <tr>\n",
       "      <th>2</th>\n",
       "      <td>615</td>\n",
       "      <td>545</td>\n",
       "      <td>370</td>\n",
       "      <td>395</td>\n",
       "      <td>-1</td>\n",
       "      <td>-1</td>\n",
       "      <td>-1</td>\n",
       "      <td>-1</td>\n",
       "      <td>-1</td>\n",
       "      <td>-1</td>\n",
       "      <td>510.000000</td>\n",
       "    </tr>\n",
       "    <tr>\n",
       "      <th>3</th>\n",
       "      <td>635</td>\n",
       "      <td>585</td>\n",
       "      <td>625</td>\n",
       "      <td>615</td>\n",
       "      <td>-1</td>\n",
       "      <td>-1</td>\n",
       "      <td>-1</td>\n",
       "      <td>-1</td>\n",
       "      <td>-1</td>\n",
       "      <td>-1</td>\n",
       "      <td>615.000000</td>\n",
       "    </tr>\n",
       "    <tr>\n",
       "      <th>4</th>\n",
       "      <td>545</td>\n",
       "      <td>625</td>\n",
       "      <td>465</td>\n",
       "      <td>-1</td>\n",
       "      <td>233</td>\n",
       "      <td>-1</td>\n",
       "      <td>-1</td>\n",
       "      <td>-1</td>\n",
       "      <td>-1</td>\n",
       "      <td>-1</td>\n",
       "      <td>545.000000</td>\n",
       "    </tr>\n",
       "    <tr>\n",
       "      <th>...</th>\n",
       "      <td>...</td>\n",
       "      <td>...</td>\n",
       "      <td>...</td>\n",
       "      <td>...</td>\n",
       "      <td>...</td>\n",
       "      <td>...</td>\n",
       "      <td>...</td>\n",
       "      <td>...</td>\n",
       "      <td>...</td>\n",
       "      <td>...</td>\n",
       "      <td>...</td>\n",
       "    </tr>\n",
       "    <tr>\n",
       "      <th>3993</th>\n",
       "      <td>365</td>\n",
       "      <td>334</td>\n",
       "      <td>475</td>\n",
       "      <td>345</td>\n",
       "      <td>-1</td>\n",
       "      <td>-1</td>\n",
       "      <td>-1</td>\n",
       "      <td>-1</td>\n",
       "      <td>-1</td>\n",
       "      <td>-1</td>\n",
       "      <td>391.333333</td>\n",
       "    </tr>\n",
       "    <tr>\n",
       "      <th>3994</th>\n",
       "      <td>415</td>\n",
       "      <td>410</td>\n",
       "      <td>535</td>\n",
       "      <td>325</td>\n",
       "      <td>420</td>\n",
       "      <td>-1</td>\n",
       "      <td>-1</td>\n",
       "      <td>-1</td>\n",
       "      <td>-1</td>\n",
       "      <td>-1</td>\n",
       "      <td>453.333333</td>\n",
       "    </tr>\n",
       "    <tr>\n",
       "      <th>3995</th>\n",
       "      <td>475</td>\n",
       "      <td>475</td>\n",
       "      <td>465</td>\n",
       "      <td>405</td>\n",
       "      <td>-1</td>\n",
       "      <td>-1</td>\n",
       "      <td>-1</td>\n",
       "      <td>-1</td>\n",
       "      <td>-1</td>\n",
       "      <td>-1</td>\n",
       "      <td>471.666667</td>\n",
       "    </tr>\n",
       "    <tr>\n",
       "      <th>3996</th>\n",
       "      <td>450</td>\n",
       "      <td>410</td>\n",
       "      <td>320</td>\n",
       "      <td>445</td>\n",
       "      <td>-1</td>\n",
       "      <td>438</td>\n",
       "      <td>-1</td>\n",
       "      <td>-1</td>\n",
       "      <td>-1</td>\n",
       "      <td>-1</td>\n",
       "      <td>393.333333</td>\n",
       "    </tr>\n",
       "    <tr>\n",
       "      <th>3997</th>\n",
       "      <td>565</td>\n",
       "      <td>515</td>\n",
       "      <td>464</td>\n",
       "      <td>435</td>\n",
       "      <td>-1</td>\n",
       "      <td>-1</td>\n",
       "      <td>-1</td>\n",
       "      <td>-1</td>\n",
       "      <td>-1</td>\n",
       "      <td>-1</td>\n",
       "      <td>514.666667</td>\n",
       "    </tr>\n",
       "  </tbody>\n",
       "</table>\n",
       "<p>3964 rows × 11 columns</p>\n",
       "</div>"
      ],
      "text/plain": [
       "      English  Logical  Quant  ComputerProgramming  ElectronicsAndSemicon  \\\n",
       "0         515      585    525                  445                     -1   \n",
       "1         695      610    780                   -1                    466   \n",
       "2         615      545    370                  395                     -1   \n",
       "3         635      585    625                  615                     -1   \n",
       "4         545      625    465                   -1                    233   \n",
       "...       ...      ...    ...                  ...                    ...   \n",
       "3993      365      334    475                  345                     -1   \n",
       "3994      415      410    535                  325                    420   \n",
       "3995      475      475    465                  405                     -1   \n",
       "3996      450      410    320                  445                     -1   \n",
       "3997      565      515    464                  435                     -1   \n",
       "\n",
       "      ComputerScience  MechanicalEngg  ElectricalEngg  TelecomEngg  CivilEngg  \\\n",
       "0                  -1              -1              -1           -1         -1   \n",
       "1                  -1              -1              -1           -1         -1   \n",
       "2                  -1              -1              -1           -1         -1   \n",
       "3                  -1              -1              -1           -1         -1   \n",
       "4                  -1              -1              -1           -1         -1   \n",
       "...               ...             ...             ...          ...        ...   \n",
       "3993               -1              -1              -1           -1         -1   \n",
       "3994               -1              -1              -1           -1         -1   \n",
       "3995               -1              -1              -1           -1         -1   \n",
       "3996              438              -1              -1           -1         -1   \n",
       "3997               -1              -1              -1           -1         -1   \n",
       "\n",
       "         Average  \n",
       "0     541.666667  \n",
       "1     695.000000  \n",
       "2     510.000000  \n",
       "3     615.000000  \n",
       "4     545.000000  \n",
       "...          ...  \n",
       "3993  391.333333  \n",
       "3994  453.333333  \n",
       "3995  471.666667  \n",
       "3996  393.333333  \n",
       "3997  514.666667  \n",
       "\n",
       "[3964 rows x 11 columns]"
      ]
     },
     "execution_count": 114,
     "metadata": {},
     "output_type": "execute_result"
    }
   ],
   "source": [
    "amcat_scores"
   ]
  },
  {
   "cell_type": "code",
   "execution_count": 122,
   "id": "525ee462",
   "metadata": {},
   "outputs": [],
   "source": [
    "amcat_scores['Average_amcat_percentage'] = (amcat_scores['Average']/900)*100"
   ]
  },
  {
   "cell_type": "code",
   "execution_count": 120,
   "id": "09ed275b",
   "metadata": {},
   "outputs": [],
   "source": [
    "amcat_scores['10percentage'] = df['10percentage']\n",
    "amcat_scores['12percentage'] = df['12percentage']\n",
    "amcat_scores['collegeGPA'] = df['collegeGPA']"
   ]
  },
  {
   "cell_type": "code",
   "execution_count": 125,
   "id": "22017116",
   "metadata": {},
   "outputs": [
    {
     "data": {
      "text/html": [
       "<div>\n",
       "<style scoped>\n",
       "    .dataframe tbody tr th:only-of-type {\n",
       "        vertical-align: middle;\n",
       "    }\n",
       "\n",
       "    .dataframe tbody tr th {\n",
       "        vertical-align: top;\n",
       "    }\n",
       "\n",
       "    .dataframe thead th {\n",
       "        text-align: right;\n",
       "    }\n",
       "</style>\n",
       "<table border=\"1\" class=\"dataframe\">\n",
       "  <thead>\n",
       "    <tr style=\"text-align: right;\">\n",
       "      <th></th>\n",
       "      <th>English</th>\n",
       "      <th>Logical</th>\n",
       "      <th>Quant</th>\n",
       "      <th>ComputerProgramming</th>\n",
       "      <th>ElectronicsAndSemicon</th>\n",
       "      <th>ComputerScience</th>\n",
       "      <th>MechanicalEngg</th>\n",
       "      <th>ElectricalEngg</th>\n",
       "      <th>TelecomEngg</th>\n",
       "      <th>CivilEngg</th>\n",
       "      <th>Average</th>\n",
       "      <th>10percentage</th>\n",
       "      <th>12percentage</th>\n",
       "      <th>collegeGPA</th>\n",
       "      <th>Average_amcat_percentage</th>\n",
       "    </tr>\n",
       "  </thead>\n",
       "  <tbody>\n",
       "    <tr>\n",
       "      <th>0</th>\n",
       "      <td>515</td>\n",
       "      <td>585</td>\n",
       "      <td>525</td>\n",
       "      <td>445</td>\n",
       "      <td>-1</td>\n",
       "      <td>-1</td>\n",
       "      <td>-1</td>\n",
       "      <td>-1</td>\n",
       "      <td>-1</td>\n",
       "      <td>-1</td>\n",
       "      <td>541.666667</td>\n",
       "      <td>84.30</td>\n",
       "      <td>95.80</td>\n",
       "      <td>78.00</td>\n",
       "      <td>60.185185</td>\n",
       "    </tr>\n",
       "    <tr>\n",
       "      <th>1</th>\n",
       "      <td>695</td>\n",
       "      <td>610</td>\n",
       "      <td>780</td>\n",
       "      <td>-1</td>\n",
       "      <td>466</td>\n",
       "      <td>-1</td>\n",
       "      <td>-1</td>\n",
       "      <td>-1</td>\n",
       "      <td>-1</td>\n",
       "      <td>-1</td>\n",
       "      <td>695.000000</td>\n",
       "      <td>85.40</td>\n",
       "      <td>85.00</td>\n",
       "      <td>70.06</td>\n",
       "      <td>77.222222</td>\n",
       "    </tr>\n",
       "    <tr>\n",
       "      <th>2</th>\n",
       "      <td>615</td>\n",
       "      <td>545</td>\n",
       "      <td>370</td>\n",
       "      <td>395</td>\n",
       "      <td>-1</td>\n",
       "      <td>-1</td>\n",
       "      <td>-1</td>\n",
       "      <td>-1</td>\n",
       "      <td>-1</td>\n",
       "      <td>-1</td>\n",
       "      <td>510.000000</td>\n",
       "      <td>85.00</td>\n",
       "      <td>68.20</td>\n",
       "      <td>70.00</td>\n",
       "      <td>56.666667</td>\n",
       "    </tr>\n",
       "    <tr>\n",
       "      <th>3</th>\n",
       "      <td>635</td>\n",
       "      <td>585</td>\n",
       "      <td>625</td>\n",
       "      <td>615</td>\n",
       "      <td>-1</td>\n",
       "      <td>-1</td>\n",
       "      <td>-1</td>\n",
       "      <td>-1</td>\n",
       "      <td>-1</td>\n",
       "      <td>-1</td>\n",
       "      <td>615.000000</td>\n",
       "      <td>85.60</td>\n",
       "      <td>83.60</td>\n",
       "      <td>74.64</td>\n",
       "      <td>68.333333</td>\n",
       "    </tr>\n",
       "    <tr>\n",
       "      <th>4</th>\n",
       "      <td>545</td>\n",
       "      <td>625</td>\n",
       "      <td>465</td>\n",
       "      <td>-1</td>\n",
       "      <td>233</td>\n",
       "      <td>-1</td>\n",
       "      <td>-1</td>\n",
       "      <td>-1</td>\n",
       "      <td>-1</td>\n",
       "      <td>-1</td>\n",
       "      <td>545.000000</td>\n",
       "      <td>78.00</td>\n",
       "      <td>76.80</td>\n",
       "      <td>73.90</td>\n",
       "      <td>60.555556</td>\n",
       "    </tr>\n",
       "    <tr>\n",
       "      <th>...</th>\n",
       "      <td>...</td>\n",
       "      <td>...</td>\n",
       "      <td>...</td>\n",
       "      <td>...</td>\n",
       "      <td>...</td>\n",
       "      <td>...</td>\n",
       "      <td>...</td>\n",
       "      <td>...</td>\n",
       "      <td>...</td>\n",
       "      <td>...</td>\n",
       "      <td>...</td>\n",
       "      <td>...</td>\n",
       "      <td>...</td>\n",
       "      <td>...</td>\n",
       "      <td>...</td>\n",
       "    </tr>\n",
       "    <tr>\n",
       "      <th>3993</th>\n",
       "      <td>365</td>\n",
       "      <td>334</td>\n",
       "      <td>475</td>\n",
       "      <td>345</td>\n",
       "      <td>-1</td>\n",
       "      <td>-1</td>\n",
       "      <td>-1</td>\n",
       "      <td>-1</td>\n",
       "      <td>-1</td>\n",
       "      <td>-1</td>\n",
       "      <td>391.333333</td>\n",
       "      <td>52.09</td>\n",
       "      <td>55.50</td>\n",
       "      <td>61.50</td>\n",
       "      <td>43.481481</td>\n",
       "    </tr>\n",
       "    <tr>\n",
       "      <th>3994</th>\n",
       "      <td>415</td>\n",
       "      <td>410</td>\n",
       "      <td>535</td>\n",
       "      <td>325</td>\n",
       "      <td>420</td>\n",
       "      <td>-1</td>\n",
       "      <td>-1</td>\n",
       "      <td>-1</td>\n",
       "      <td>-1</td>\n",
       "      <td>-1</td>\n",
       "      <td>453.333333</td>\n",
       "      <td>90.00</td>\n",
       "      <td>93.00</td>\n",
       "      <td>77.30</td>\n",
       "      <td>50.370370</td>\n",
       "    </tr>\n",
       "    <tr>\n",
       "      <th>3995</th>\n",
       "      <td>475</td>\n",
       "      <td>475</td>\n",
       "      <td>465</td>\n",
       "      <td>405</td>\n",
       "      <td>-1</td>\n",
       "      <td>-1</td>\n",
       "      <td>-1</td>\n",
       "      <td>-1</td>\n",
       "      <td>-1</td>\n",
       "      <td>-1</td>\n",
       "      <td>471.666667</td>\n",
       "      <td>81.86</td>\n",
       "      <td>65.50</td>\n",
       "      <td>70.00</td>\n",
       "      <td>52.407407</td>\n",
       "    </tr>\n",
       "    <tr>\n",
       "      <th>3996</th>\n",
       "      <td>450</td>\n",
       "      <td>410</td>\n",
       "      <td>320</td>\n",
       "      <td>445</td>\n",
       "      <td>-1</td>\n",
       "      <td>438</td>\n",
       "      <td>-1</td>\n",
       "      <td>-1</td>\n",
       "      <td>-1</td>\n",
       "      <td>-1</td>\n",
       "      <td>393.333333</td>\n",
       "      <td>78.72</td>\n",
       "      <td>69.88</td>\n",
       "      <td>70.42</td>\n",
       "      <td>43.703704</td>\n",
       "    </tr>\n",
       "    <tr>\n",
       "      <th>3997</th>\n",
       "      <td>565</td>\n",
       "      <td>515</td>\n",
       "      <td>464</td>\n",
       "      <td>435</td>\n",
       "      <td>-1</td>\n",
       "      <td>-1</td>\n",
       "      <td>-1</td>\n",
       "      <td>-1</td>\n",
       "      <td>-1</td>\n",
       "      <td>-1</td>\n",
       "      <td>514.666667</td>\n",
       "      <td>70.60</td>\n",
       "      <td>68.00</td>\n",
       "      <td>68.00</td>\n",
       "      <td>57.185185</td>\n",
       "    </tr>\n",
       "  </tbody>\n",
       "</table>\n",
       "<p>3964 rows × 15 columns</p>\n",
       "</div>"
      ],
      "text/plain": [
       "      English  Logical  Quant  ComputerProgramming  ElectronicsAndSemicon  \\\n",
       "0         515      585    525                  445                     -1   \n",
       "1         695      610    780                   -1                    466   \n",
       "2         615      545    370                  395                     -1   \n",
       "3         635      585    625                  615                     -1   \n",
       "4         545      625    465                   -1                    233   \n",
       "...       ...      ...    ...                  ...                    ...   \n",
       "3993      365      334    475                  345                     -1   \n",
       "3994      415      410    535                  325                    420   \n",
       "3995      475      475    465                  405                     -1   \n",
       "3996      450      410    320                  445                     -1   \n",
       "3997      565      515    464                  435                     -1   \n",
       "\n",
       "      ComputerScience  MechanicalEngg  ElectricalEngg  TelecomEngg  CivilEngg  \\\n",
       "0                  -1              -1              -1           -1         -1   \n",
       "1                  -1              -1              -1           -1         -1   \n",
       "2                  -1              -1              -1           -1         -1   \n",
       "3                  -1              -1              -1           -1         -1   \n",
       "4                  -1              -1              -1           -1         -1   \n",
       "...               ...             ...             ...          ...        ...   \n",
       "3993               -1              -1              -1           -1         -1   \n",
       "3994               -1              -1              -1           -1         -1   \n",
       "3995               -1              -1              -1           -1         -1   \n",
       "3996              438              -1              -1           -1         -1   \n",
       "3997               -1              -1              -1           -1         -1   \n",
       "\n",
       "         Average  10percentage  12percentage  collegeGPA  \\\n",
       "0     541.666667         84.30         95.80       78.00   \n",
       "1     695.000000         85.40         85.00       70.06   \n",
       "2     510.000000         85.00         68.20       70.00   \n",
       "3     615.000000         85.60         83.60       74.64   \n",
       "4     545.000000         78.00         76.80       73.90   \n",
       "...          ...           ...           ...         ...   \n",
       "3993  391.333333         52.09         55.50       61.50   \n",
       "3994  453.333333         90.00         93.00       77.30   \n",
       "3995  471.666667         81.86         65.50       70.00   \n",
       "3996  393.333333         78.72         69.88       70.42   \n",
       "3997  514.666667         70.60         68.00       68.00   \n",
       "\n",
       "      Average_amcat_percentage  \n",
       "0                    60.185185  \n",
       "1                    77.222222  \n",
       "2                    56.666667  \n",
       "3                    68.333333  \n",
       "4                    60.555556  \n",
       "...                        ...  \n",
       "3993                 43.481481  \n",
       "3994                 50.370370  \n",
       "3995                 52.407407  \n",
       "3996                 43.703704  \n",
       "3997                 57.185185  \n",
       "\n",
       "[3964 rows x 15 columns]"
      ]
     },
     "execution_count": 125,
     "metadata": {},
     "output_type": "execute_result"
    }
   ],
   "source": [
    "amcat_scores"
   ]
  },
  {
   "cell_type": "markdown",
   "id": "7b795bee",
   "metadata": {},
   "source": [
    "## Is college GPA and AMCAT scores are correlated?"
   ]
  },
  {
   "cell_type": "code",
   "execution_count": 133,
   "id": "f11462f8",
   "metadata": {},
   "outputs": [
    {
     "data": {
      "image/png": "[encoded data removed]",
      "text/plain": [
       "<Figure size 576x432 with 2 Axes>"
      ]
     },
     "metadata": {
      "needs_background": "light"
     },
     "output_type": "display_data"
    }
   ],
   "source": [
    "columns_to_plot = amcat_scores[['10percentage', '12percentage', 'collegeGPA', 'Average_amcat_percentage']]\n",
    "\n",
    "\n",
    "correlation_matrix = columns_to_plot.corr()\n",
    "\n",
    "\n",
    "plt.figure(figsize=(8, 6))\n",
    "sns.heatmap(correlation_matrix, annot=True, cmap='coolwarm', vmin=-1, vmax=1,fmt=\".2f\")\n",
    "plt.title(\"Correlation Heatmap for Three Variables\")\n",
    "plt.show()"
   ]
  },
  {
   "cell_type": "markdown",
   "id": "c46523ed",
   "metadata": {},
   "source": [
    "10th and 12th scores are highly correlated. Also AMCAT score is comparatively high correlation with 10th percentage"
   ]
  },
  {
   "cell_type": "code",
   "execution_count": 134,
   "id": "a4e32202",
   "metadata": {},
   "outputs": [
    {
     "data": {
      "image/png": "[encoded data removed]",
      "text/plain": [
       "<Figure size 576x432 with 2 Axes>"
      ]
     },
     "metadata": {
      "needs_background": "light"
     },
     "output_type": "display_data"
    }
   ],
   "source": [
    "columns_to_plot = amcat_scores[['English', 'Logical', 'Quant']]\n",
    "\n",
    "\n",
    "correlation_matrix = columns_to_plot.corr()\n",
    "\n",
    "\n",
    "plt.figure(figsize=(8, 6))\n",
    "sns.heatmap(correlation_matrix, annot=True, cmap='coolwarm', vmin=-1, vmax=1,fmt=\".2f\")\n",
    "plt.title(\"Correlation Heatmap for Three Variables\")\n",
    "plt.show()"
   ]
  },
  {
   "cell_type": "code",
   "execution_count": 162,
   "id": "61a7053f",
   "metadata": {},
   "outputs": [],
   "source": [
    "columns_to_consider = ['ComputerProgramming', 'ElectronicsAndSemicon', 'ComputerScience',\n",
    "                        'MechanicalEngg', 'ElectricalEngg', 'TelecomEngg', 'CivilEngg']\n",
    "\n",
    "\n",
    "amcat_scores['domain_amcat'] = amcat_scores[columns_to_consider].apply(lambda row: row.idxmax() if row.max() != -1 else None, axis=1)\n"
   ]
  },
  {
   "cell_type": "code",
   "execution_count": 163,
   "id": "5abc3f35",
   "metadata": {},
   "outputs": [
    {
     "data": {
      "text/html": [
       "<div>\n",
       "<style scoped>\n",
       "    .dataframe tbody tr th:only-of-type {\n",
       "        vertical-align: middle;\n",
       "    }\n",
       "\n",
       "    .dataframe tbody tr th {\n",
       "        vertical-align: top;\n",
       "    }\n",
       "\n",
       "    .dataframe thead th {\n",
       "        text-align: right;\n",
       "    }\n",
       "</style>\n",
       "<table border=\"1\" class=\"dataframe\">\n",
       "  <thead>\n",
       "    <tr style=\"text-align: right;\">\n",
       "      <th></th>\n",
       "      <th>English</th>\n",
       "      <th>Logical</th>\n",
       "      <th>Quant</th>\n",
       "      <th>ComputerProgramming</th>\n",
       "      <th>ElectronicsAndSemicon</th>\n",
       "      <th>ComputerScience</th>\n",
       "      <th>MechanicalEngg</th>\n",
       "      <th>ElectricalEngg</th>\n",
       "      <th>TelecomEngg</th>\n",
       "      <th>CivilEngg</th>\n",
       "      <th>Average</th>\n",
       "      <th>10percentage</th>\n",
       "      <th>12percentage</th>\n",
       "      <th>collegeGPA</th>\n",
       "      <th>Average_amcat_percentage</th>\n",
       "      <th>domain_attempt</th>\n",
       "      <th>domain_amcat</th>\n",
       "    </tr>\n",
       "  </thead>\n",
       "  <tbody>\n",
       "    <tr>\n",
       "      <th>0</th>\n",
       "      <td>515</td>\n",
       "      <td>585</td>\n",
       "      <td>525</td>\n",
       "      <td>445</td>\n",
       "      <td>-1</td>\n",
       "      <td>-1</td>\n",
       "      <td>-1</td>\n",
       "      <td>-1</td>\n",
       "      <td>-1</td>\n",
       "      <td>-1</td>\n",
       "      <td>541.666667</td>\n",
       "      <td>84.30</td>\n",
       "      <td>95.80</td>\n",
       "      <td>78.00</td>\n",
       "      <td>60.185185</td>\n",
       "      <td>CSE</td>\n",
       "      <td>ComputerProgramming</td>\n",
       "    </tr>\n",
       "    <tr>\n",
       "      <th>1</th>\n",
       "      <td>695</td>\n",
       "      <td>610</td>\n",
       "      <td>780</td>\n",
       "      <td>-1</td>\n",
       "      <td>466</td>\n",
       "      <td>-1</td>\n",
       "      <td>-1</td>\n",
       "      <td>-1</td>\n",
       "      <td>-1</td>\n",
       "      <td>-1</td>\n",
       "      <td>695.000000</td>\n",
       "      <td>85.40</td>\n",
       "      <td>85.00</td>\n",
       "      <td>70.06</td>\n",
       "      <td>77.222222</td>\n",
       "      <td>ECE</td>\n",
       "      <td>ElectronicsAndSemicon</td>\n",
       "    </tr>\n",
       "    <tr>\n",
       "      <th>2</th>\n",
       "      <td>615</td>\n",
       "      <td>545</td>\n",
       "      <td>370</td>\n",
       "      <td>395</td>\n",
       "      <td>-1</td>\n",
       "      <td>-1</td>\n",
       "      <td>-1</td>\n",
       "      <td>-1</td>\n",
       "      <td>-1</td>\n",
       "      <td>-1</td>\n",
       "      <td>510.000000</td>\n",
       "      <td>85.00</td>\n",
       "      <td>68.20</td>\n",
       "      <td>70.00</td>\n",
       "      <td>56.666667</td>\n",
       "      <td>CSE</td>\n",
       "      <td>ComputerProgramming</td>\n",
       "    </tr>\n",
       "    <tr>\n",
       "      <th>3</th>\n",
       "      <td>635</td>\n",
       "      <td>585</td>\n",
       "      <td>625</td>\n",
       "      <td>615</td>\n",
       "      <td>-1</td>\n",
       "      <td>-1</td>\n",
       "      <td>-1</td>\n",
       "      <td>-1</td>\n",
       "      <td>-1</td>\n",
       "      <td>-1</td>\n",
       "      <td>615.000000</td>\n",
       "      <td>85.60</td>\n",
       "      <td>83.60</td>\n",
       "      <td>74.64</td>\n",
       "      <td>68.333333</td>\n",
       "      <td>CSE</td>\n",
       "      <td>ComputerProgramming</td>\n",
       "    </tr>\n",
       "    <tr>\n",
       "      <th>4</th>\n",
       "      <td>545</td>\n",
       "      <td>625</td>\n",
       "      <td>465</td>\n",
       "      <td>-1</td>\n",
       "      <td>233</td>\n",
       "      <td>-1</td>\n",
       "      <td>-1</td>\n",
       "      <td>-1</td>\n",
       "      <td>-1</td>\n",
       "      <td>-1</td>\n",
       "      <td>545.000000</td>\n",
       "      <td>78.00</td>\n",
       "      <td>76.80</td>\n",
       "      <td>73.90</td>\n",
       "      <td>60.555556</td>\n",
       "      <td>ECE</td>\n",
       "      <td>ElectronicsAndSemicon</td>\n",
       "    </tr>\n",
       "    <tr>\n",
       "      <th>...</th>\n",
       "      <td>...</td>\n",
       "      <td>...</td>\n",
       "      <td>...</td>\n",
       "      <td>...</td>\n",
       "      <td>...</td>\n",
       "      <td>...</td>\n",
       "      <td>...</td>\n",
       "      <td>...</td>\n",
       "      <td>...</td>\n",
       "      <td>...</td>\n",
       "      <td>...</td>\n",
       "      <td>...</td>\n",
       "      <td>...</td>\n",
       "      <td>...</td>\n",
       "      <td>...</td>\n",
       "      <td>...</td>\n",
       "      <td>...</td>\n",
       "    </tr>\n",
       "    <tr>\n",
       "      <th>3993</th>\n",
       "      <td>365</td>\n",
       "      <td>334</td>\n",
       "      <td>475</td>\n",
       "      <td>345</td>\n",
       "      <td>-1</td>\n",
       "      <td>-1</td>\n",
       "      <td>-1</td>\n",
       "      <td>-1</td>\n",
       "      <td>-1</td>\n",
       "      <td>-1</td>\n",
       "      <td>391.333333</td>\n",
       "      <td>52.09</td>\n",
       "      <td>55.50</td>\n",
       "      <td>61.50</td>\n",
       "      <td>43.481481</td>\n",
       "      <td>CSE</td>\n",
       "      <td>ComputerProgramming</td>\n",
       "    </tr>\n",
       "    <tr>\n",
       "      <th>3994</th>\n",
       "      <td>415</td>\n",
       "      <td>410</td>\n",
       "      <td>535</td>\n",
       "      <td>325</td>\n",
       "      <td>420</td>\n",
       "      <td>-1</td>\n",
       "      <td>-1</td>\n",
       "      <td>-1</td>\n",
       "      <td>-1</td>\n",
       "      <td>-1</td>\n",
       "      <td>453.333333</td>\n",
       "      <td>90.00</td>\n",
       "      <td>93.00</td>\n",
       "      <td>77.30</td>\n",
       "      <td>50.370370</td>\n",
       "      <td>ECE</td>\n",
       "      <td>ElectronicsAndSemicon</td>\n",
       "    </tr>\n",
       "    <tr>\n",
       "      <th>3995</th>\n",
       "      <td>475</td>\n",
       "      <td>475</td>\n",
       "      <td>465</td>\n",
       "      <td>405</td>\n",
       "      <td>-1</td>\n",
       "      <td>-1</td>\n",
       "      <td>-1</td>\n",
       "      <td>-1</td>\n",
       "      <td>-1</td>\n",
       "      <td>-1</td>\n",
       "      <td>471.666667</td>\n",
       "      <td>81.86</td>\n",
       "      <td>65.50</td>\n",
       "      <td>70.00</td>\n",
       "      <td>52.407407</td>\n",
       "      <td>CSE</td>\n",
       "      <td>ComputerProgramming</td>\n",
       "    </tr>\n",
       "    <tr>\n",
       "      <th>3996</th>\n",
       "      <td>450</td>\n",
       "      <td>410</td>\n",
       "      <td>320</td>\n",
       "      <td>445</td>\n",
       "      <td>-1</td>\n",
       "      <td>438</td>\n",
       "      <td>-1</td>\n",
       "      <td>-1</td>\n",
       "      <td>-1</td>\n",
       "      <td>-1</td>\n",
       "      <td>393.333333</td>\n",
       "      <td>78.72</td>\n",
       "      <td>69.88</td>\n",
       "      <td>70.42</td>\n",
       "      <td>43.703704</td>\n",
       "      <td>CSE</td>\n",
       "      <td>ComputerProgramming</td>\n",
       "    </tr>\n",
       "    <tr>\n",
       "      <th>3997</th>\n",
       "      <td>565</td>\n",
       "      <td>515</td>\n",
       "      <td>464</td>\n",
       "      <td>435</td>\n",
       "      <td>-1</td>\n",
       "      <td>-1</td>\n",
       "      <td>-1</td>\n",
       "      <td>-1</td>\n",
       "      <td>-1</td>\n",
       "      <td>-1</td>\n",
       "      <td>514.666667</td>\n",
       "      <td>70.60</td>\n",
       "      <td>68.00</td>\n",
       "      <td>68.00</td>\n",
       "      <td>57.185185</td>\n",
       "      <td>CSE</td>\n",
       "      <td>ComputerProgramming</td>\n",
       "    </tr>\n",
       "  </tbody>\n",
       "</table>\n",
       "<p>3964 rows × 17 columns</p>\n",
       "</div>"
      ],
      "text/plain": [
       "      English  Logical  Quant  ComputerProgramming  ElectronicsAndSemicon  \\\n",
       "0         515      585    525                  445                     -1   \n",
       "1         695      610    780                   -1                    466   \n",
       "2         615      545    370                  395                     -1   \n",
       "3         635      585    625                  615                     -1   \n",
       "4         545      625    465                   -1                    233   \n",
       "...       ...      ...    ...                  ...                    ...   \n",
       "3993      365      334    475                  345                     -1   \n",
       "3994      415      410    535                  325                    420   \n",
       "3995      475      475    465                  405                     -1   \n",
       "3996      450      410    320                  445                     -1   \n",
       "3997      565      515    464                  435                     -1   \n",
       "\n",
       "      ComputerScience  MechanicalEngg  ElectricalEngg  TelecomEngg  CivilEngg  \\\n",
       "0                  -1              -1              -1           -1         -1   \n",
       "1                  -1              -1              -1           -1         -1   \n",
       "2                  -1              -1              -1           -1         -1   \n",
       "3                  -1              -1              -1           -1         -1   \n",
       "4                  -1              -1              -1           -1         -1   \n",
       "...               ...             ...             ...          ...        ...   \n",
       "3993               -1              -1              -1           -1         -1   \n",
       "3994               -1              -1              -1           -1         -1   \n",
       "3995               -1              -1              -1           -1         -1   \n",
       "3996              438              -1              -1           -1         -1   \n",
       "3997               -1              -1              -1           -1         -1   \n",
       "\n",
       "         Average  10percentage  12percentage  collegeGPA  \\\n",
       "0     541.666667         84.30         95.80       78.00   \n",
       "1     695.000000         85.40         85.00       70.06   \n",
       "2     510.000000         85.00         68.20       70.00   \n",
       "3     615.000000         85.60         83.60       74.64   \n",
       "4     545.000000         78.00         76.80       73.90   \n",
       "...          ...           ...           ...         ...   \n",
       "3993  391.333333         52.09         55.50       61.50   \n",
       "3994  453.333333         90.00         93.00       77.30   \n",
       "3995  471.666667         81.86         65.50       70.00   \n",
       "3996  393.333333         78.72         69.88       70.42   \n",
       "3997  514.666667         70.60         68.00       68.00   \n",
       "\n",
       "      Average_amcat_percentage domain_attempt           domain_amcat  \n",
       "0                    60.185185            CSE    ComputerProgramming  \n",
       "1                    77.222222            ECE  ElectronicsAndSemicon  \n",
       "2                    56.666667            CSE    ComputerProgramming  \n",
       "3                    68.333333            CSE    ComputerProgramming  \n",
       "4                    60.555556            ECE  ElectronicsAndSemicon  \n",
       "...                        ...            ...                    ...  \n",
       "3993                 43.481481            CSE    ComputerProgramming  \n",
       "3994                 50.370370            ECE  ElectronicsAndSemicon  \n",
       "3995                 52.407407            CSE    ComputerProgramming  \n",
       "3996                 43.703704            CSE    ComputerProgramming  \n",
       "3997                 57.185185            CSE    ComputerProgramming  \n",
       "\n",
       "[3964 rows x 17 columns]"
      ]
     },
     "execution_count": 163,
     "metadata": {},
     "output_type": "execute_result"
    }
   ],
   "source": [
    "amcat_scores"
   ]
  },
  {
   "cell_type": "code",
   "execution_count": 171,
   "id": "23d8eb84",
   "metadata": {},
   "outputs": [
    {
     "data": {
      "text/plain": [
       "<Axes: xlabel='count', ylabel='domain_amcat'>"
      ]
     },
     "execution_count": 171,
     "metadata": {},
     "output_type": "execute_result"
    },
    {
     "data": {
      "image/png": "[encoded data removed]",
      "text/plain": [
       "<Figure size 432x288 with 1 Axes>"
      ]
     },
     "metadata": {
      "needs_background": "light"
     },
     "output_type": "display_data"
    }
   ],
   "source": [
    "sns.countplot(y='domain_amcat',data=amcat_scores)"
   ]
  },
  {
   "cell_type": "code",
   "execution_count": 146,
   "id": "9b99296c",
   "metadata": {},
   "outputs": [
    {
     "data": {
      "text/plain": [
       "array(['CSE', 'ECE', 'IT', 'Mechanical Engg', 'EEE',\n",
       "       'Instrumentation Engg', 'Civil Engg', 'Production Engg',\n",
       "       'Metallurgical Engg', 'Chemical Engg', 'Aeronautical Engg',\n",
       "       'other', 'Biomedical Engineering', 'Automobiles'], dtype=object)"
      ]
     },
     "execution_count": 146,
     "metadata": {},
     "output_type": "execute_result"
    }
   ],
   "source": [
    "df['Specialization'].unique()"
   ]
  },
  {
   "cell_type": "code",
   "execution_count": 147,
   "id": "9a0859a0",
   "metadata": {},
   "outputs": [
    {
     "data": {
      "text/plain": [
       "array(['ComputerProgramming', 'ElectronicsAndSemicon', 'MechanicalEngg',\n",
       "       'ComputerScience', None, 'ElectricalEngg', 'TelecomEngg',\n",
       "       'CivilEngg'], dtype=object)"
      ]
     },
     "execution_count": 147,
     "metadata": {},
     "output_type": "execute_result"
    }
   ],
   "source": [
    "amcat_scores['domain_attempt'].unique()"
   ]
  },
  {
   "cell_type": "code",
   "execution_count": 155,
   "id": "c6d9eb7c",
   "metadata": {},
   "outputs": [],
   "source": [
    "def clean_row_domain(row): \n",
    "    if row is None:\n",
    "        return None\n",
    "    elif 'ComputerProgramming' in row:\n",
    "        return 'CSE'\n",
    "    elif 'ElectronicsAndSemicon' in row:\n",
    "        return 'ECE'\n",
    "    elif 'MechanicalEngg' in row:\n",
    "        return 'Mechanical Engg'\n",
    "    elif 'ElectricalEngg' in row:\n",
    "        return 'EEE'\n",
    "    elif 'ComputerScience' in row:\n",
    "        return 'CSE'\n",
    "    elif 'TelecomEngg' in row:\n",
    "        return 'ECE'\n",
    "    elif 'CivilEngg' in row:\n",
    "        return 'Civil Engg'\n"
   ]
  },
  {
   "cell_type": "code",
   "execution_count": 156,
   "id": "59d4770b",
   "metadata": {},
   "outputs": [],
   "source": [
    "amcat_scores['domain_attempt'] = amcat_scores['domain_attempt'].apply(clean_row_domain)"
   ]
  },
  {
   "cell_type": "code",
   "execution_count": 157,
   "id": "3b38ee66",
   "metadata": {},
   "outputs": [
    {
     "data": {
      "text/plain": [
       "0       CSE\n",
       "1       ECE\n",
       "2       CSE\n",
       "3       CSE\n",
       "4       ECE\n",
       "       ... \n",
       "3993    CSE\n",
       "3994    ECE\n",
       "3995    CSE\n",
       "3996    CSE\n",
       "3997    CSE\n",
       "Name: domain_attempt, Length: 3964, dtype: object"
      ]
     },
     "execution_count": 157,
     "metadata": {},
     "output_type": "execute_result"
    }
   ],
   "source": [
    "amcat_scores['domain_attempt']"
   ]
  },
  {
   "cell_type": "markdown",
   "id": "4fe89e74",
   "metadata": {},
   "source": [
    "## College domain vs AMCAT Domain"
   ]
  },
  {
   "cell_type": "code",
   "execution_count": 158,
   "id": "5c870a8d",
   "metadata": {},
   "outputs": [
    {
     "name": "stdout",
     "output_type": "stream",
     "text": [
      "Chi-square value: 8579.521905829175\n",
      "P-value: 0.0\n",
      "Is the result significant at 0.05 level? Yes\n"
     ]
    }
   ],
   "source": [
    "contingency_table = pd.crosstab(df['Specialization'], amcat_scores['domain_attempt'])\n",
    "chi2, p, _, _ = chi2_contingency(contingency_table)\n",
    "\n",
    "\n",
    "print(f\"Chi-square value: {chi2}\")\n",
    "print(f\"P-value: {p}\")\n",
    "\n",
    "\n",
    "alpha = 0.05\n",
    "print(f\"Is the result significant at {alpha} level? {'Yes' if p < alpha else 'No'}\")"
   ]
  },
  {
   "cell_type": "markdown",
   "id": "2364615c",
   "metadata": {},
   "source": [
    "There is significant in college specification and domain of AMCAT"
   ]
  },
  {
   "cell_type": "markdown",
   "id": "0d1b841d",
   "metadata": {},
   "source": [
    "## Salary vs Specialization"
   ]
  },
  {
   "cell_type": "code",
   "execution_count": 189,
   "id": "03db8378",
   "metadata": {
    "scrolled": true
   },
   "outputs": [
    {
     "data": {
      "text/plain": [
       "<Axes: xlabel='Salary', ylabel='Specialization'>"
      ]
     },
     "execution_count": 189,
     "metadata": {},
     "output_type": "execute_result"
    },
    {
     "data": {
      "image/png": "[encoded data removed]",
      "text/plain": [
       "<Figure size 576x432 with 1 Axes>"
      ]
     },
     "metadata": {
      "needs_background": "light"
     },
     "output_type": "display_data"
    }
   ],
   "source": [
    "plt.figure(figsize=(8, 6))\n",
    "sns.boxplot(y='Specialization',x='Salary',data=df)"
   ]
  },
  {
   "cell_type": "markdown",
   "id": "9c1701ad",
   "metadata": {},
   "source": [
    "Production Engg has higher median CGPA "
   ]
  },
  {
   "cell_type": "markdown",
   "id": "cfa9bd02",
   "metadata": {},
   "source": [
    "## Students psychology comparison of school marks and college CGPA"
   ]
  },
  {
   "cell_type": "code",
   "execution_count": 181,
   "id": "cea3fa6c",
   "metadata": {},
   "outputs": [],
   "source": [
    "df['School_average'] = ((df['10percentage'] + df['12percentage'])/2)"
   ]
  },
  {
   "cell_type": "code",
   "execution_count": 182,
   "id": "8596047e",
   "metadata": {},
   "outputs": [
    {
     "data": {
      "text/plain": [
       "count    3964.000000\n",
       "mean       76.238169\n",
       "std         9.437211\n",
       "min        46.465000\n",
       "25%        69.500000\n",
       "50%        76.740000\n",
       "75%        83.500000\n",
       "max        97.045000\n",
       "Name: School_average, dtype: float64"
      ]
     },
     "execution_count": 182,
     "metadata": {},
     "output_type": "execute_result"
    }
   ],
   "source": [
    "df['School_average'].describe()"
   ]
  },
  {
   "cell_type": "code",
   "execution_count": 183,
   "id": "05e1893b",
   "metadata": {},
   "outputs": [
    {
     "name": "stdout",
     "output_type": "stream",
     "text": [
      "Pearson correlation coefficient: 0.3653886371837765\n",
      "P-value: 1.7792226416283576e-125\n"
     ]
    },
    {
     "data": {
      "image/png": "[encoded data removed]",
      "text/plain": [
       "<Figure size 432x288 with 1 Axes>"
      ]
     },
     "metadata": {
      "needs_background": "light"
     },
     "output_type": "display_data"
    }
   ],
   "source": [
    "from scipy.stats import pearsonr\n",
    "\n",
    "correlation_coefficient, p_value = pearsonr(df['School_average'], df['collegeGPA'])\n",
    "print(f\"Pearson correlation coefficient: {correlation_coefficient}\")\n",
    "print(f\"P-value: {p_value}\")\n",
    "\n",
    "# Create a scatter plot for visualization\n",
    "plt.scatter(df['School_average'], df['collegeGPA'])\n",
    "plt.xlabel('School Marks')\n",
    "plt.ylabel('College Marks')\n",
    "plt.title('Scatter Plot of School Marks vs College Marks')\n",
    "plt.show()"
   ]
  },
  {
   "cell_type": "markdown",
   "id": "9ae2df00",
   "metadata": {},
   "source": [
    " Since P- value is close to zero, reject H0. There is significant correlation of 0.36"
   ]
  },
  {
   "cell_type": "markdown",
   "id": "ccd7b4ef",
   "metadata": {},
   "source": [
    "## AMCAT Score vs Salary"
   ]
  },
  {
   "cell_type": "code",
   "execution_count": 188,
   "id": "198549da",
   "metadata": {},
   "outputs": [
    {
     "name": "stdout",
     "output_type": "stream",
     "text": [
      "Pearson correlation coefficient: 0.2533029106839614\n",
      "P-value: 4.425226082464903e-59\n"
     ]
    },
    {
     "data": {
      "image/png": "[encoded data removed]",
      "text/plain": [
       "<Figure size 432x288 with 1 Axes>"
      ]
     },
     "metadata": {
      "needs_background": "light"
     },
     "output_type": "display_data"
    }
   ],
   "source": [
    "\n",
    "correlation_coefficient, p_value = pearsonr(amcat_scores['Average_amcat_percentage'], df['Salary'])\n",
    "print(f\"Pearson correlation coefficient: {correlation_coefficient}\")\n",
    "print(f\"P-value: {p_value}\")\n",
    "\n",
    "x = amcat_scores['Average_amcat_percentage']\n",
    "y = df['Salary']\n",
    "# Create a scatter plot for visualization\n",
    "slope, intercept = np.polyfit(x, y, 1)\n",
    "\n",
    "# Add the regression line\n",
    "\n",
    "\n",
    "slope, intercept = np.polyfit(amcat_scores['Average_amcat_percentage'], df['Salary'], 1)\n",
    "plt.scatter(amcat_scores['Average_amcat_percentage'], df['Salary'])\n",
    "plt.plot(x, slope * x + intercept, color='red', label='Regression Line')\n",
    "plt.xlabel('AMCAT Score')\n",
    "plt.ylabel('Salary')\n",
    "plt.title('Scatter Plot of AMCAT Score vs Salary')\n",
    "plt.show()\n"
   ]
  },
  {
   "cell_type": "markdown",
   "id": "59674341",
   "metadata": {},
   "source": [
    "There is a slight positive correlation between AMCAT Score and Salary"
   ]
  },
  {
   "cell_type": "code",
   "execution_count": 202,
   "id": "1bccc6d4",
   "metadata": {},
   "outputs": [
    {
     "data": {
      "image/png": "[encoded data removed]",
      "text/plain": [
       "<Figure size 576x432 with 2 Axes>"
      ]
     },
     "metadata": {
      "needs_background": "light"
     },
     "output_type": "display_data"
    }
   ],
   "source": [
    "columns_to_plot = df[['CollegeTier', 'Salary']]\n",
    "\n",
    "\n",
    "correlation_matrix = columns_to_plot.corr()\n",
    "\n",
    "\n",
    "plt.figure(figsize=(8, 6))\n",
    "sns.heatmap(correlation_matrix, annot=True, cmap='coolwarm', vmin=-1, vmax=1,fmt=\".2f\")\n",
    "plt.title(\"Correlation Heatmap for Three Variables\")\n",
    "plt.show()"
   ]
  },
  {
   "cell_type": "code",
   "execution_count": 205,
   "id": "3b9a2efc",
   "metadata": {},
   "outputs": [
    {
     "data": {
      "text/plain": [
       "<Axes: xlabel='CollegeTier', ylabel='Salary'>"
      ]
     },
     "execution_count": 205,
     "metadata": {},
     "output_type": "execute_result"
    },
    {
     "data": {
      "image/png": "[encoded data removed]",
      "text/plain": [
       "<Figure size 432x288 with 1 Axes>"
      ]
     },
     "metadata": {
      "needs_background": "light"
     },
     "output_type": "display_data"
    }
   ],
   "source": [
    "sns.boxenplot(data=df, x=\"CollegeTier\", y=\"Salary\")"
   ]
  },
  {
   "cell_type": "code",
   "execution_count": 209,
   "id": "a5e46773",
   "metadata": {},
   "outputs": [],
   "source": [
    "df['JobCity'] = df['JobCity'].apply(lambda x: x.lower() if isinstance(x, str) else x)"
   ]
  },
  {
   "cell_type": "code",
   "execution_count": 225,
   "id": "ef081cfb",
   "metadata": {},
   "outputs": [
    {
     "data": {
      "text/plain": [
       "0            Karnataka\n",
       "1       Madhya Pradesh\n",
       "2           Tamil Nadu\n",
       "3              Haryana\n",
       "4              Haryana\n",
       "             ...      \n",
       "3993             Delhi\n",
       "3994         Telangana\n",
       "3995         Karnataka\n",
       "3996         Telangana\n",
       "3997        Tamil Nadu\n",
       "Name: JobState, Length: 3964, dtype: object"
      ]
     },
     "execution_count": 225,
     "metadata": {},
     "output_type": "execute_result"
    }
   ],
   "source": [
    "df['JobState']"
   ]
  },
  {
   "cell_type": "code",
   "execution_count": 226,
   "id": "27a8da40",
   "metadata": {},
   "outputs": [
    {
     "name": "stdout",
     "output_type": "stream",
     "text": [
      "Chi-square value: 15325.940091745251\n",
      "P-value: 0.0\n",
      "Is the result significant at 0.05 level? Yes\n"
     ]
    }
   ],
   "source": [
    "from scipy.stats import chi2_contingency\n",
    "\n",
    "contingency_table = pd.crosstab(df['JobState'], df['CollegeState'])\n",
    "chi2, p, _, _ = chi2_contingency(contingency_table)\n",
    "\n",
    "\n",
    "print(f\"Chi-square value: {chi2}\")\n",
    "print(f\"P-value: {p}\")\n",
    "\n",
    "\n",
    "alpha = 0.05\n",
    "print(f\"Is the result significant at {alpha} level? {'Yes' if p < alpha else 'No'}\")"
   ]
  },
  {
   "cell_type": "code",
   "execution_count": null,
   "id": "50b79a0e",
   "metadata": {},
   "outputs": [],
   "source": [
    "import numpy as np\n",
    "from scipy.stats import ttest_1samp\n",
    "\n",
    "# Collect data (replace this with your actual data)\n",
    "data = np.array([250000, 270000, 280000, 260000, 290000])\n",
    "\n",
    "# Claimed mean from the statement\n",
    "claimed_mean = 250000\n",
    "\n",
    "# Set the significance level\n",
    "alpha = 0.05\n",
    "\n",
    "# Perform one-sample t-test\n",
    "t_stat, p_value = ttest_1samp(data, claimed_mean)\n",
    "\n",
    "# Compare p-value with significance level\n",
    "if p_value < alpha:\n",
    "    print(\"Reject the null hypothesis. There is enough evidence to suggest that the average salary is greater than the claimed value.\")\n",
    "else:\n",
    "    print(\"Fail to reject the null hypothesis. There is not enough evidence to suggest that the average salary is greater than the claimed value.\")\n"
   ]
  },
  {
   "cell_type": "code",
   "execution_count": 227,
   "id": "70f180c2",
   "metadata": {},
   "outputs": [
    {
     "data": {
      "text/plain": [
       "array(['senior quality engineer', 'assistant manager', 'systems engineer',\n",
       "       'senior software engineer', 'get', 'system engineer',\n",
       "       'java software engineer', 'mechanical engineer',\n",
       "       'electrical engineer', 'project engineer', 'senior php developer',\n",
       "       'senior systems engineer', 'quality assurance engineer',\n",
       "       'qa analyst', 'network engineer', 'product development engineer',\n",
       "       'associate software developer', 'data entry operator',\n",
       "       'software engineer', 'developer', 'electrical project engineer',\n",
       "       'programmer analyst', 'systems analyst', 'ase',\n",
       "       'telecommunication engineer', 'application developer',\n",
       "       'ios developer', 'executive assistant', 'online marketing manager',\n",
       "       'documentation specialist', 'associate software engineer',\n",
       "       'management trainee', 'site manager', 'software developer',\n",
       "       '.net developer', 'production engineer', 'jr. software engineer',\n",
       "       'trainee software developer', 'ui developer',\n",
       "       'assistant system engineer', 'android developer',\n",
       "       'customer service', 'test engineer', 'java developer', 'engineer',\n",
       "       'recruitment coordinator', 'technical support engineer',\n",
       "       'data analyst', 'assistant software engineer', 'faculty',\n",
       "       'entry level management trainee',\n",
       "       'customer service representative', 'software test engineer',\n",
       "       'firmware engineer', 'php developer', 'research associate',\n",
       "       'research analyst', 'quality engineer', 'programmer',\n",
       "       'technical support executive', 'business analyst', 'web developer',\n",
       "       'application engineer', 'project coordinator', 'engineer trainee',\n",
       "       'sap consultant', 'quality analyst', 'marketing coordinator',\n",
       "       'system administrator', 'senior engineer',\n",
       "       'business development managerde', 'network administrator',\n",
       "       'technical support specialist', 'business development executive',\n",
       "       'junior software engineer', 'asp.net developer',\n",
       "       'graduate engineer trainee', 'field engineer',\n",
       "       'assistant professor', 'trainee software engineer',\n",
       "       'senior software developer',\n",
       "       'quality assurance automation engineer', 'design engineer',\n",
       "       'telecom engineer', 'quality control engineer',\n",
       "       'hardware engineer', 'hr recruiter', 'sales associate',\n",
       "       'junior engineer', 'associate engineer', 'maintenance engineer',\n",
       "       'sales engineer', 'human resources associate',\n",
       "       'mobile application developer',\n",
       "       'electronic field service engineer', 'process associate',\n",
       "       'field service engineer', 'it support specialist',\n",
       "       'software development engineer', 'business process analyst',\n",
       "       'operation engineer', 'electrical designer', 'marketing assistant',\n",
       "       'sales executive', 'admin assistant', 'senior java developer',\n",
       "       'account executive', 'oracle dba', 'rf engineer',\n",
       "       'embedded software engineer', 'programmer analyst trainee',\n",
       "       'technical engineer', 'operations executive', 'trainee engineer',\n",
       "       'recruiter', 'lecturer', '.net web developer',\n",
       "       'marketing executive', 'operations assistant', 'associate manager',\n",
       "       'electrical design engineer', 'systems administrator',\n",
       "       'client services associate', 'it analyst', 'senior developer',\n",
       "       'cad designer', 'business technology analyst', 'asst. manager',\n",
       "       'service engineer', 'executive recruiter', 'planning engineer',\n",
       "       'associate technical operations', 'web designer',\n",
       "       'software architect', 'software quality assurance tester',\n",
       "       'seo trainee', 'process engineer',\n",
       "       'software quality assurance analyst', 'designer',\n",
       "       'business systems consultant', 'business development manager',\n",
       "       'junior research fellow', 'technical recruiter',\n",
       "       'operations analyst', 'quality assurance test engineer',\n",
       "       'linux systems administrator', 'software trainee',\n",
       "       'entry level sales and marketing', 'electrical field engineer',\n",
       "       'windows systems administrator', 'junior software developer',\n",
       "       'python developer', 'web application developer',\n",
       "       'assistant systems engineer', 'javascript developer',\n",
       "       'operation executive', 'performance engineer', 'technical writer',\n",
       "       'operations engineer and jetty handling', 'lead engineer',\n",
       "       'portfolio analyst', 'associate system engineer',\n",
       "       'mechanical design engineer', 'product engineer',\n",
       "       'network security engineer', 'operations manager',\n",
       "       'technical lead', 'operations', 'quality assurance tester',\n",
       "       'automation engineer', 'data scientist', 'quality associate',\n",
       "       'manual tester', 'sr. engineer', 'embedded engineer',\n",
       "       'service and sales engineer', 'telecom support engineer',\n",
       "       'engineer- customer support', 'cloud engineer', 'branch manager',\n",
       "       'business analyst consultant', 'technology lead',\n",
       "       'software trainee engineer', 'dcs engineer', 'junior manager',\n",
       "       'ux designer', 'clerical', 'hr generalist',\n",
       "       'database administrator', 'senior design engineer', 'seo',\n",
       "       'assistant engineer', 'marketing analyst', 'it executive',\n",
       "       'salesforce developer', 'software tester', 'sql dba',\n",
       "       'junior engineer product support', 'manager',\n",
       "       'senior business analyst', 'c# developer',\n",
       "       'implementation engineer', 'executive hr', 'executive engineer',\n",
       "       'sharepoint developer', 'system analyst',\n",
       "       'sales management trainee', 'it recruiter',\n",
       "       'software engineer analyst', 'desktop support technician',\n",
       "       'continuous improvement engineer', 'process advisor',\n",
       "       'etl developer', 'sales and service engineer', 'project manager',\n",
       "       'training specialist', 'product manager', 'staffing recruiter',\n",
       "       'assistant programmer', 'quality controller', 'mis executive',\n",
       "       'game developer', 'digital marketing specialist',\n",
       "       'principal software engineer', 'software devloper',\n",
       "       'senior mechanical engineer', 'technical operations analyst',\n",
       "       'service coordinator', 'testing engineer', 'technical assistant',\n",
       "       'sap abap consultant', 'seo engineer', 'project assistant',\n",
       "       'talent acquisition specialist', 'sales account manager',\n",
       "       'software engineer trainee', 'customer service manager',\n",
       "       'help desk analyst', 'general manager', 'engineering manager',\n",
       "       'senior network engineer',\n",
       "       'field based employee relations manager', 'phone banking officer',\n",
       "       'support engineer', 'associate test engineer',\n",
       "       'technology analyst', 'network support engineer',\n",
       "       'it business analyst', 'junior system analyst',\n",
       "       'senior .net developer', 'secretary', 'research engineer',\n",
       "       'quality assurance auditor', 'process executive',\n",
       "       'lecturer & electrical maintenance', 'office coordinator',\n",
       "       'hr manager', 'html developer', 'sales support',\n",
       "       'front end web developer', 'territory sales manager',\n",
       "       'project administrator', 'environmental engineer',\n",
       "       'web designer and seo', 'information security analyst',\n",
       "       'field business development associate', 'operational executive',\n",
       "       'administrative coordinator', 'senior risk consultant',\n",
       "       'desktop support engineer', 'cad drafter', 'noc engineer',\n",
       "       'industrial engineer', 'it engineer', 'human resources intern',\n",
       "       'senior quality assurance engineer', 'clerical assistant',\n",
       "       'software enginner', 'quality assurance',\n",
       "       'delivery software engineer', 'graphic designer',\n",
       "       'sales development manager', 'visiting faculty',\n",
       "       'business intelligence analyst', 'team lead',\n",
       "       'operational excellence manager', 'sales & service engineer',\n",
       "       'web intern', 'full stack developer', 'database developer',\n",
       "       'sr. database engineer', 'graduate apprentice trainee',\n",
       "       'software engineer associate', 'technical analyst',\n",
       "       'executive engg', 'it technician', 'business system analyst',\n",
       "       'process control engineer', 'technical consultant',\n",
       "       'business office manager', 'quality control inspector',\n",
       "       'product design engineer', 'manufacturing engineer',\n",
       "       'seo executive', 'sap analyst', 'software engineere',\n",
       "       'financial service consultant', 'co faculty', 'software analyst',\n",
       "       'desktop support analyst', 'graduate engineer',\n",
       "       'engineering technician', 'it assistant', 'marketing manager',\n",
       "       'human resource assistant', 'hr assistant', 'product developer',\n",
       "       'customer support engineer',\n",
       "       'quality control inspection technician', 'gis/cad engineer',\n",
       "       'senior web developer', 'sql developer', 'research staff member',\n",
       "       'sap abap associate consultant', 'associate qa',\n",
       "       'corporate recruiter', 'project management officer',\n",
       "       'business systems analyst', 'software programmer',\n",
       "       'help desk technician', 'sales manager', 'catalog associate',\n",
       "       'assistant store manager', 'software engg', 'it developer',\n",
       "       'apprentice', 'business consultant', 'controls engineer',\n",
       "       'ruby on rails developer', 'risk consultant', 'account manager',\n",
       "       'professor', 'assistant administrator', 'civil engineer',\n",
       "       'educator', 'service manager', 'teradata dba',\n",
       "       'full-time loss prevention associate', 'junior recruiter',\n",
       "       'associate developer', 'assistant electrical engineer',\n",
       "       'shift engineer', 'dotnet developer', 'rf/dt engineer',\n",
       "       'human resources analyst', 'software test engineerte',\n",
       "       'junior .net developer', 'java trainee', 'maintenance supervisor',\n",
       "       'r&d engineer', 'front end developer', 'engineer-hws',\n",
       "       'operations engineer', 'senior research fellow',\n",
       "       'web designer and joomla administrator',\n",
       "       'enterprise solutions developer',\n",
       "       'information technology specialist', 'graduate trainee engineer',\n",
       "       'quality assurance analyst', 'cnc programmer', 'financial analyst',\n",
       "       'system engineer trainee', 'sap mm consultant',\n",
       "       'assistant system engineer trainee', 'qa trainee',\n",
       "       'teradata developer', 'hr executive', 'senior programmer',\n",
       "       'software test engineer (etl)', 'associate software engg',\n",
       "       'supply chain analyst', 'sales trainer', 'software executive',\n",
       "       'team leader', 'assistant system engineer - trainee',\n",
       "       'seo analyst', 'site engineer', 'risk investigator',\n",
       "       'executive administrative assistant', 'program manager', 'r & d',\n",
       "       'sap functional consultant', 'website developer/tester',\n",
       "       'software designer', 'sales coordinator', 'qa engineer',\n",
       "       'aircraft technician', 'customer care executive',\n",
       "       'senior test engineer', 'program analyst trainee',\n",
       "       'electrical controls engineer', 'trainee decision scientist',\n",
       "       'editor', 'bss engineer', 'dba', 'software eng',\n",
       "       'computer faculty', 'recruitment associate', 'logistics executive',\n",
       "       'quality consultant', 'senior sales executive', 'db2 dba',\n",
       "       'test technician', 'it operations associate',\n",
       "       'software engineering associate', 'research scientist',\n",
       "       'jr. software developer'], dtype=object)"
      ]
     },
     "execution_count": 227,
     "metadata": {},
     "output_type": "execute_result"
    }
   ],
   "source": [
    "df['Designation'].unique()"
   ]
  },
  {
   "cell_type": "code",
   "execution_count": 235,
   "id": "4a0fb188",
   "metadata": {},
   "outputs": [],
   "source": [
    "def clean_row_designation(row): \n",
    "    if 'software' in row:\n",
    "        return 'Software Engineer'\n",
    "    elif 'hardware' in row:\n",
    "        return 'Hardware Engineer'\n",
    "    elif 'associate' in row:\n",
    "        return 'Associate Engineer'\n",
    "    elif 'program' in row:\n",
    "        return 'Programming Analyst'\n",
    "\n"
   ]
  },
  {
   "cell_type": "code",
   "execution_count": 237,
   "id": "18162e05",
   "metadata": {},
   "outputs": [],
   "source": [
    "df['Designation_standardize'] = df['Designation'].apply(clean_row_designation)"
   ]
  },
  {
   "cell_type": "code",
   "execution_count": 238,
   "id": "d7bc829d",
   "metadata": {},
   "outputs": [
    {
     "data": {
      "text/plain": [
       "array([None, 'Software Engineer', 'Programming Analyst',\n",
       "       'Associate Engineer', 'Hardware Engineer'], dtype=object)"
      ]
     },
     "execution_count": 238,
     "metadata": {},
     "output_type": "execute_result"
    }
   ],
   "source": [
    "df['Designation_standardize'].unique()"
   ]
  },
  {
   "cell_type": "code",
   "execution_count": 239,
   "id": "ba342383",
   "metadata": {
    "scrolled": true
   },
   "outputs": [
    {
     "data": {
      "text/html": [
       "<div>\n",
       "<style scoped>\n",
       "    .dataframe tbody tr th:only-of-type {\n",
       "        vertical-align: middle;\n",
       "    }\n",
       "\n",
       "    .dataframe tbody tr th {\n",
       "        vertical-align: top;\n",
       "    }\n",
       "\n",
       "    .dataframe thead th {\n",
       "        text-align: right;\n",
       "    }\n",
       "</style>\n",
       "<table border=\"1\" class=\"dataframe\">\n",
       "  <thead>\n",
       "    <tr style=\"text-align: right;\">\n",
       "      <th></th>\n",
       "      <th>Unnamed: 0</th>\n",
       "      <th>ID</th>\n",
       "      <th>Salary</th>\n",
       "      <th>DOJ</th>\n",
       "      <th>DOL</th>\n",
       "      <th>Designation</th>\n",
       "      <th>JobCity</th>\n",
       "      <th>Gender</th>\n",
       "      <th>DOB</th>\n",
       "      <th>10percentage</th>\n",
       "      <th>...</th>\n",
       "      <th>conscientiousness</th>\n",
       "      <th>agreeableness</th>\n",
       "      <th>extraversion</th>\n",
       "      <th>nueroticism</th>\n",
       "      <th>openess_to_experience</th>\n",
       "      <th>WorkYear</th>\n",
       "      <th>Age</th>\n",
       "      <th>School_average</th>\n",
       "      <th>JobState</th>\n",
       "      <th>Designation_standardize</th>\n",
       "    </tr>\n",
       "  </thead>\n",
       "  <tbody>\n",
       "    <tr>\n",
       "      <th>0</th>\n",
       "      <td>train</td>\n",
       "      <td>203097</td>\n",
       "      <td>420000.0</td>\n",
       "      <td>2012-06-01</td>\n",
       "      <td>2024-02-20</td>\n",
       "      <td>senior quality engineer</td>\n",
       "      <td>bangalore</td>\n",
       "      <td>f</td>\n",
       "      <td>1990-02-19</td>\n",
       "      <td>84.3</td>\n",
       "      <td>...</td>\n",
       "      <td>0.9737</td>\n",
       "      <td>0.8128</td>\n",
       "      <td>0.5269</td>\n",
       "      <td>1.35490</td>\n",
       "      <td>-0.4455</td>\n",
       "      <td>12</td>\n",
       "      <td>34</td>\n",
       "      <td>90.05</td>\n",
       "      <td>Karnataka</td>\n",
       "      <td>None</td>\n",
       "    </tr>\n",
       "    <tr>\n",
       "      <th>1</th>\n",
       "      <td>train</td>\n",
       "      <td>579905</td>\n",
       "      <td>500000.0</td>\n",
       "      <td>2013-09-01</td>\n",
       "      <td>2024-02-20</td>\n",
       "      <td>assistant manager</td>\n",
       "      <td>indore</td>\n",
       "      <td>m</td>\n",
       "      <td>1989-10-04</td>\n",
       "      <td>85.4</td>\n",
       "      <td>...</td>\n",
       "      <td>-0.7335</td>\n",
       "      <td>0.3789</td>\n",
       "      <td>1.2396</td>\n",
       "      <td>-0.10760</td>\n",
       "      <td>0.8637</td>\n",
       "      <td>11</td>\n",
       "      <td>35</td>\n",
       "      <td>85.20</td>\n",
       "      <td>Madhya Pradesh</td>\n",
       "      <td>None</td>\n",
       "    </tr>\n",
       "    <tr>\n",
       "      <th>2</th>\n",
       "      <td>train</td>\n",
       "      <td>810601</td>\n",
       "      <td>325000.0</td>\n",
       "      <td>2014-06-01</td>\n",
       "      <td>2024-02-20</td>\n",
       "      <td>systems engineer</td>\n",
       "      <td>chennai</td>\n",
       "      <td>f</td>\n",
       "      <td>1992-08-03</td>\n",
       "      <td>85.0</td>\n",
       "      <td>...</td>\n",
       "      <td>0.2718</td>\n",
       "      <td>1.7109</td>\n",
       "      <td>0.1637</td>\n",
       "      <td>-0.86820</td>\n",
       "      <td>0.6721</td>\n",
       "      <td>10</td>\n",
       "      <td>32</td>\n",
       "      <td>76.60</td>\n",
       "      <td>Tamil Nadu</td>\n",
       "      <td>None</td>\n",
       "    </tr>\n",
       "    <tr>\n",
       "      <th>3</th>\n",
       "      <td>train</td>\n",
       "      <td>267447</td>\n",
       "      <td>1100000.0</td>\n",
       "      <td>2011-07-01</td>\n",
       "      <td>2024-02-20</td>\n",
       "      <td>senior software engineer</td>\n",
       "      <td>gurgaon</td>\n",
       "      <td>m</td>\n",
       "      <td>1989-12-05</td>\n",
       "      <td>85.6</td>\n",
       "      <td>...</td>\n",
       "      <td>0.0464</td>\n",
       "      <td>0.3448</td>\n",
       "      <td>-0.3440</td>\n",
       "      <td>-0.40780</td>\n",
       "      <td>-0.9194</td>\n",
       "      <td>13</td>\n",
       "      <td>35</td>\n",
       "      <td>84.60</td>\n",
       "      <td>Haryana</td>\n",
       "      <td>Software Engineer</td>\n",
       "    </tr>\n",
       "    <tr>\n",
       "      <th>4</th>\n",
       "      <td>train</td>\n",
       "      <td>343523</td>\n",
       "      <td>200000.0</td>\n",
       "      <td>2014-03-01</td>\n",
       "      <td>2015-03-01</td>\n",
       "      <td>get</td>\n",
       "      <td>manesar</td>\n",
       "      <td>m</td>\n",
       "      <td>1991-02-27</td>\n",
       "      <td>78.0</td>\n",
       "      <td>...</td>\n",
       "      <td>-0.8810</td>\n",
       "      <td>-0.2793</td>\n",
       "      <td>-1.0697</td>\n",
       "      <td>0.09163</td>\n",
       "      <td>-0.1295</td>\n",
       "      <td>1</td>\n",
       "      <td>33</td>\n",
       "      <td>77.40</td>\n",
       "      <td>Haryana</td>\n",
       "      <td>None</td>\n",
       "    </tr>\n",
       "  </tbody>\n",
       "</table>\n",
       "<p>5 rows × 44 columns</p>\n",
       "</div>"
      ],
      "text/plain": [
       "  Unnamed: 0      ID     Salary        DOJ        DOL  \\\n",
       "0      train  203097   420000.0 2012-06-01 2024-02-20   \n",
       "1      train  579905   500000.0 2013-09-01 2024-02-20   \n",
       "2      train  810601   325000.0 2014-06-01 2024-02-20   \n",
       "3      train  267447  1100000.0 2011-07-01 2024-02-20   \n",
       "4      train  343523   200000.0 2014-03-01 2015-03-01   \n",
       "\n",
       "                Designation    JobCity Gender        DOB  10percentage  ...  \\\n",
       "0   senior quality engineer  bangalore      f 1990-02-19          84.3  ...   \n",
       "1         assistant manager     indore      m 1989-10-04          85.4  ...   \n",
       "2          systems engineer    chennai      f 1992-08-03          85.0  ...   \n",
       "3  senior software engineer    gurgaon      m 1989-12-05          85.6  ...   \n",
       "4                       get    manesar      m 1991-02-27          78.0  ...   \n",
       "\n",
       "  conscientiousness  agreeableness  extraversion nueroticism  \\\n",
       "0            0.9737         0.8128        0.5269     1.35490   \n",
       "1           -0.7335         0.3789        1.2396    -0.10760   \n",
       "2            0.2718         1.7109        0.1637    -0.86820   \n",
       "3            0.0464         0.3448       -0.3440    -0.40780   \n",
       "4           -0.8810        -0.2793       -1.0697     0.09163   \n",
       "\n",
       "   openess_to_experience  WorkYear Age School_average        JobState  \\\n",
       "0                -0.4455        12  34          90.05       Karnataka   \n",
       "1                 0.8637        11  35          85.20  Madhya Pradesh   \n",
       "2                 0.6721        10  32          76.60      Tamil Nadu   \n",
       "3                -0.9194        13  35          84.60         Haryana   \n",
       "4                -0.1295         1  33          77.40         Haryana   \n",
       "\n",
       "   Designation_standardize  \n",
       "0                     None  \n",
       "1                     None  \n",
       "2                     None  \n",
       "3        Software Engineer  \n",
       "4                     None  \n",
       "\n",
       "[5 rows x 44 columns]"
      ]
     },
     "execution_count": 239,
     "metadata": {},
     "output_type": "execute_result"
    }
   ],
   "source": [
    "df.head()"
   ]
  },
  {
   "cell_type": "code",
   "execution_count": 240,
   "id": "99b3c4ea",
   "metadata": {},
   "outputs": [],
   "source": [
    "software = df[df['Designation_standardize'] == 'Software Engineer']"
   ]
  },
  {
   "cell_type": "code",
   "execution_count": 241,
   "id": "1a2701df",
   "metadata": {},
   "outputs": [],
   "source": [
    "hardware = df[df['Designation_standardize'] == 'Hardware Engineer']"
   ]
  },
  {
   "cell_type": "code",
   "execution_count": 242,
   "id": "7b1e8153",
   "metadata": {},
   "outputs": [],
   "source": [
    "associate = df[df['Designation_standardize'] == 'Associate Engineer']"
   ]
  },
  {
   "cell_type": "code",
   "execution_count": 243,
   "id": "02b790ad",
   "metadata": {},
   "outputs": [],
   "source": [
    "programming = df[df['Designation_standardize'] == 'Programming Analyst']"
   ]
  },
  {
   "cell_type": "code",
   "execution_count": 252,
   "id": "f83c1f26",
   "metadata": {},
   "outputs": [],
   "source": [
    "dataset = [software,hardware,associate,programming]\n",
    "data_label = ['Software Enginnering', 'Hardware Engineer', 'Associate Engineer', 'Programming Analyst']"
   ]
  },
  {
   "cell_type": "code",
   "execution_count": 262,
   "id": "faecb812",
   "metadata": {},
   "outputs": [
    {
     "name": "stdout",
     "output_type": "stream",
     "text": [
      "13.022232373097733\n",
      "1.8527839517889905e-36\n",
      "\n",
      "Reject the null hypothesis. There is enough evidence to suggest that the average salary is greater than the claimed value.\n",
      "0.6879906754700249\n",
      "0.5136036318709567\n",
      "\n",
      "Fail to reject the null hypothesis. There is not enough evidence to suggest that the average salary is greater than the claimed value.\n",
      "1.0620822321984882\n",
      "0.29151813809560595\n",
      "\n",
      "Fail to reject the null hypothesis. There is not enough evidence to suggest that the average salary is greater than the claimed value.\n",
      "5.404142298416027\n",
      "1.999373822572247e-07\n",
      "\n",
      "Reject the null hypothesis. There is enough evidence to suggest that the average salary is greater than the claimed value.\n"
     ]
    }
   ],
   "source": [
    "from scipy.stats import ttest_1samp\n",
    "\n",
    "alpha = 0.05\n",
    "claimed_mean = 250000\n",
    "for i in dataset:\n",
    "    t_stat, p_value = ttest_1samp(i['Salary'], claimed_mean)\n",
    "    print(t_stat)\n",
    "    print(p_value)\n",
    "    data_label = ['Software Enginnering', 'Hardware Engineer', 'Associate Engineer', 'Programming Analyst']\n",
    "    if p_value < alpha:\n",
    "        print(f\"\\nReject the null hypothesis. There is enough evidence to suggest that the average salary is greater than the claimed value.\")\n",
    "    else:\n",
    "        print(f\"\\nFail to reject the null hypothesis. There is not enough evidence to suggest that the average salary is greater than the claimed value.\")"
   ]
  },
  {
   "cell_type": "code",
   "execution_count": 263,
   "id": "d496aa68",
   "metadata": {},
   "outputs": [
    {
     "data": {
      "text/plain": [
       "<Axes: xlabel='Degree', ylabel='count'>"
      ]
     },
     "execution_count": 263,
     "metadata": {},
     "output_type": "execute_result"
    },
    {
     "data": {
      "image/png": "[encoded data removed]",
      "text/plain": [
       "<Figure size 432x288 with 1 Axes>"
      ]
     },
     "metadata": {
      "needs_background": "light"
     },
     "output_type": "display_data"
    }
   ],
   "source": [
    "sns.countplot(data = df, x = 'Degree')"
   ]
  },
  {
   "cell_type": "code",
   "execution_count": 265,
   "id": "f07c3079",
   "metadata": {},
   "outputs": [
    {
     "data": {
      "text/plain": [
       "<Axes: xlabel='count', ylabel='Specialization'>"
      ]
     },
     "execution_count": 265,
     "metadata": {},
     "output_type": "execute_result"
    },
    {
     "data": {
      "image/png": "[encoded data removed]",
      "text/plain": [
       "<Figure size 432x288 with 1 Axes>"
      ]
     },
     "metadata": {
      "needs_background": "light"
     },
     "output_type": "display_data"
    }
   ],
   "source": [
    "sns.countplot(data = df, y = 'Specialization')"
   ]
  },
  {
   "cell_type": "code",
   "execution_count": 266,
   "id": "a02b682b",
   "metadata": {},
   "outputs": [],
   "source": [
    "ece_salary = df[df['Specialization'] == 'ECE']"
   ]
  },
  {
   "cell_type": "code",
   "execution_count": 267,
   "id": "85d047eb",
   "metadata": {},
   "outputs": [
    {
     "data": {
      "text/plain": [
       "<Axes: xlabel='Salary'>"
      ]
     },
     "execution_count": 267,
     "metadata": {},
     "output_type": "execute_result"
    },
    {
     "data": {
      "image/png": "[encoded data removed]",
      "text/plain": [
       "<Figure size 432x288 with 1 Axes>"
      ]
     },
     "metadata": {
      "needs_background": "light"
     },
     "output_type": "display_data"
    }
   ],
   "source": [
    "sns.boxplot(data = ece_salary, x = 'Salary')"
   ]
  },
  {
   "cell_type": "code",
   "execution_count": 268,
   "id": "060e7ffe",
   "metadata": {},
   "outputs": [
    {
     "data": {
      "text/plain": [
       "296869.3918245264"
      ]
     },
     "execution_count": 268,
     "metadata": {},
     "output_type": "execute_result"
    }
   ],
   "source": [
    "ece_salary['Salary'].mean()"
   ]
  },
  {
   "cell_type": "code",
   "execution_count": 269,
   "id": "15dbe2bf",
   "metadata": {},
   "outputs": [
    {
     "data": {
      "text/plain": [
       "3000000.0"
      ]
     },
     "execution_count": 269,
     "metadata": {},
     "output_type": "execute_result"
    }
   ],
   "source": [
    "ece_salary['Salary'].max()"
   ]
  },
  {
   "cell_type": "code",
   "execution_count": null,
   "id": "2ec2aee5",
   "metadata": {},
   "outputs": [],
   "source": []
  }
 ],
 "metadata": {
  "kernelspec": {
   "display_name": "Python 3 (ipykernel)",
   "language": "python",
   "name": "python3"
  },
  "language_info": {
   "codemirror_mode": {
    "name": "ipython",
    "version": 3
   },
   "file_extension": ".py",
   "mimetype": "text/x-python",
   "name": "python",
   "nbconvert_exporter": "python",
   "pygments_lexer": "ipython3",
   "version": "3.9.0"
  }
 },
 "nbformat": 4,
 "nbformat_minor": 5
}
